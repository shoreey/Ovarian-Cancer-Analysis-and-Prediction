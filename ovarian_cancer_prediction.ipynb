{
  "cells": [
    {
      "cell_type": "markdown",
      "metadata": {
        "id": "view-in-github",
        "colab_type": "text"
      },
      "source": [
        "<a href=\"https://colab.research.google.com/github/shoreey/Ovarian-Cancer-Analysis-and-Prediction/blob/main/ovarian_cancer_prediction.ipynb\" target=\"_parent\"><img src=\"https://colab.research.google.com/assets/colab-badge.svg\" alt=\"Open In Colab\"/></a>"
      ]
    },
    {
      "cell_type": "markdown",
      "id": "5ea39a3d",
      "metadata": {
        "id": "5ea39a3d"
      },
      "source": [
        "### Importing libraries"
      ]
    },
    {
      "cell_type": "code",
      "execution_count": null,
      "id": "7fa22da6",
      "metadata": {
        "id": "7fa22da6"
      },
      "outputs": [],
      "source": [
        "import pandas as pd\n",
        "import numpy as np\n",
        "from matplotlib import pyplot as plt\n",
        "import seaborn as sns\n",
        "from sklearn.linear_model import LogisticRegression\n",
        "from sklearn.svm import SVC\n",
        "from sklearn.model_selection import cross_val_score\n",
        "from sklearn.metrics import precision_score, recall_score, f1_score, roc_auc_score, accuracy_score, classification_report\n",
        "from sklearn.metrics import average_precision_score\n",
        "from sklearn.preprocessing import LabelEncoder, StandardScaler\n",
        "import collections\n",
        "from sklearn.metrics import classification_report\n",
        "from sklearn.metrics import confusion_matrix\n",
        "from sklearn.metrics import accuracy_score\n",
        "from sklearn.ensemble import AdaBoostClassifier\n",
        "from sklearn.ensemble import RandomForestClassifier\n",
        "from sklearn.ensemble import AdaBoostClassifier\n",
        "from sklearn.tree import DecisionTreeClassifier\n",
        "from sklearn.ensemble import ExtraTreesClassifier"
      ]
    },
    {
      "cell_type": "markdown",
      "id": "13a6942e",
      "metadata": {
        "id": "13a6942e"
      },
      "source": [
        "### Reading dataset"
      ]
    },
    {
      "cell_type": "code",
      "execution_count": null,
      "id": "4138ea37",
      "metadata": {
        "scrolled": false,
        "id": "4138ea37",
        "outputId": "9338fc9e-6027-4c29-9b36-37e45753ccd5"
      },
      "outputs": [
        {
          "data": {
            "text/html": [
              "<div>\n",
              "<style scoped>\n",
              "    .dataframe tbody tr th:only-of-type {\n",
              "        vertical-align: middle;\n",
              "    }\n",
              "\n",
              "    .dataframe tbody tr th {\n",
              "        vertical-align: top;\n",
              "    }\n",
              "\n",
              "    .dataframe thead th {\n",
              "        text-align: right;\n",
              "    }\n",
              "</style>\n",
              "<table border=\"1\" class=\"dataframe\">\n",
              "  <thead>\n",
              "    <tr style=\"text-align: right;\">\n",
              "      <th></th>\n",
              "      <th>Filename</th>\n",
              "      <th>Data di nascita Paziente</th>\n",
              "      <th>Istologia</th>\n",
              "      <th>Grading</th>\n",
              "      <th>FIGO stage</th>\n",
              "      <th>BRCA</th>\n",
              "      <th>ECOG Performance Status</th>\n",
              "      <th>ca125 (numero intero)</th>\n",
              "      <th>he4 (numero intero)</th>\n",
              "      <th>ca 15.3 (numero intero)</th>\n",
              "      <th>...</th>\n",
              "      <th>Terapia Neoadiuvante</th>\n",
              "      <th>IDS</th>\n",
              "      <th>Data IDS</th>\n",
              "      <th>RT IDS</th>\n",
              "      <th>Recidiva</th>\n",
              "      <th>Data recidiva</th>\n",
              "      <th>Ultimo follow-up</th>\n",
              "      <th>Morte</th>\n",
              "      <th>Data morte</th>\n",
              "      <th>Surgical outcome</th>\n",
              "    </tr>\n",
              "  </thead>\n",
              "  <tbody>\n",
              "    <tr>\n",
              "      <th>0</th>\n",
              "      <td>34918138</td>\n",
              "      <td>1962-03-04</td>\n",
              "      <td>Carcinoma Sieroso Alto Grado</td>\n",
              "      <td>3.0</td>\n",
              "      <td>III b</td>\n",
              "      <td>VUS</td>\n",
              "      <td>0.0</td>\n",
              "      <td>963.0</td>\n",
              "      <td>NaN</td>\n",
              "      <td>NaN</td>\n",
              "      <td>...</td>\n",
              "      <td>No</td>\n",
              "      <td>NaN</td>\n",
              "      <td>NaT</td>\n",
              "      <td>NaN</td>\n",
              "      <td>No</td>\n",
              "      <td>NaT</td>\n",
              "      <td>2022-03-09 00:00:00</td>\n",
              "      <td>NaN</td>\n",
              "      <td>NaT</td>\n",
              "      <td>0</td>\n",
              "    </tr>\n",
              "    <tr>\n",
              "      <th>1</th>\n",
              "      <td>56770587</td>\n",
              "      <td>1962-01-15</td>\n",
              "      <td>Altri carcinomi ovarici</td>\n",
              "      <td>NaN</td>\n",
              "      <td>I</td>\n",
              "      <td>NaN</td>\n",
              "      <td>0.0</td>\n",
              "      <td>70.0</td>\n",
              "      <td>95.0</td>\n",
              "      <td>37.0</td>\n",
              "      <td>...</td>\n",
              "      <td>No</td>\n",
              "      <td>NaN</td>\n",
              "      <td>NaT</td>\n",
              "      <td>NaN</td>\n",
              "      <td>No</td>\n",
              "      <td>NaT</td>\n",
              "      <td>2022-01-24 00:00:00</td>\n",
              "      <td>No</td>\n",
              "      <td>NaT</td>\n",
              "      <td>0</td>\n",
              "    </tr>\n",
              "    <tr>\n",
              "      <th>2</th>\n",
              "      <td>79692917</td>\n",
              "      <td>1951-12-01</td>\n",
              "      <td>Carcinoma Sieroso Alto Grado</td>\n",
              "      <td>3.0</td>\n",
              "      <td>III c</td>\n",
              "      <td>non mutata</td>\n",
              "      <td>1.0</td>\n",
              "      <td>236.0</td>\n",
              "      <td>996.0</td>\n",
              "      <td>NaN</td>\n",
              "      <td>...</td>\n",
              "      <td>No</td>\n",
              "      <td>No</td>\n",
              "      <td>NaT</td>\n",
              "      <td>NaN</td>\n",
              "      <td>No</td>\n",
              "      <td>NaT</td>\n",
              "      <td>2021-12-23 00:00:00</td>\n",
              "      <td>No</td>\n",
              "      <td>NaT</td>\n",
              "      <td>0</td>\n",
              "    </tr>\n",
              "    <tr>\n",
              "      <th>3</th>\n",
              "      <td>86250014</td>\n",
              "      <td>1970-08-15</td>\n",
              "      <td>Carcinoma Sieroso Alto Grado</td>\n",
              "      <td>3.0</td>\n",
              "      <td>III c</td>\n",
              "      <td>non mutata</td>\n",
              "      <td>0.0</td>\n",
              "      <td>1228.0</td>\n",
              "      <td>NaN</td>\n",
              "      <td>74.0</td>\n",
              "      <td>...</td>\n",
              "      <td>Si</td>\n",
              "      <td>No</td>\n",
              "      <td>NaT</td>\n",
              "      <td>NaN</td>\n",
              "      <td>Si</td>\n",
              "      <td>2021-10-27</td>\n",
              "      <td>2022-03-02 00:00:00</td>\n",
              "      <td>No</td>\n",
              "      <td>NaT</td>\n",
              "      <td>1</td>\n",
              "    </tr>\n",
              "    <tr>\n",
              "      <th>4</th>\n",
              "      <td>103336863</td>\n",
              "      <td>1954-09-19</td>\n",
              "      <td>Carcinoma Sieroso Alto Grado</td>\n",
              "      <td>3.0</td>\n",
              "      <td>IV</td>\n",
              "      <td>non mutata</td>\n",
              "      <td>0.0</td>\n",
              "      <td>2709.0</td>\n",
              "      <td>387.0</td>\n",
              "      <td>NaN</td>\n",
              "      <td>...</td>\n",
              "      <td>Si</td>\n",
              "      <td>Si</td>\n",
              "      <td>2020-06-16</td>\n",
              "      <td>NaN</td>\n",
              "      <td>Si</td>\n",
              "      <td>2021-05-19</td>\n",
              "      <td>2021-11-30 00:00:00</td>\n",
              "      <td>No</td>\n",
              "      <td>NaT</td>\n",
              "      <td>1</td>\n",
              "    </tr>\n",
              "  </tbody>\n",
              "</table>\n",
              "<p>5 rows × 27 columns</p>\n",
              "</div>"
            ],
            "text/plain": [
              "    Filename Data di nascita Paziente                     Istologia  Grading  \\\n",
              "0   34918138               1962-03-04  Carcinoma Sieroso Alto Grado      3.0   \n",
              "1   56770587               1962-01-15       Altri carcinomi ovarici      NaN   \n",
              "2   79692917               1951-12-01  Carcinoma Sieroso Alto Grado      3.0   \n",
              "3   86250014               1970-08-15  Carcinoma Sieroso Alto Grado      3.0   \n",
              "4  103336863               1954-09-19  Carcinoma Sieroso Alto Grado      3.0   \n",
              "\n",
              "  FIGO stage        BRCA  ECOG Performance Status  ca125 (numero intero)  \\\n",
              "0      III b         VUS                      0.0                  963.0   \n",
              "1          I         NaN                      0.0                   70.0   \n",
              "2      III c  non mutata                      1.0                  236.0   \n",
              "3      III c  non mutata                      0.0                 1228.0   \n",
              "4         IV  non mutata                      0.0                 2709.0   \n",
              "\n",
              "   he4 (numero intero)  ca 15.3 (numero intero)  ...  Terapia Neoadiuvante  \\\n",
              "0                  NaN                      NaN  ...                    No   \n",
              "1                 95.0                     37.0  ...                    No   \n",
              "2                996.0                      NaN  ...                    No   \n",
              "3                  NaN                     74.0  ...                    Si   \n",
              "4                387.0                      NaN  ...                    Si   \n",
              "\n",
              "   IDS   Data IDS RT IDS Recidiva Data recidiva     Ultimo follow-up Morte  \\\n",
              "0  NaN        NaT    NaN       No           NaT  2022-03-09 00:00:00   NaN   \n",
              "1  NaN        NaT    NaN       No           NaT  2022-01-24 00:00:00    No   \n",
              "2   No        NaT    NaN       No           NaT  2021-12-23 00:00:00    No   \n",
              "3   No        NaT    NaN       Si    2021-10-27  2022-03-02 00:00:00    No   \n",
              "4   Si 2020-06-16    NaN       Si    2021-05-19  2021-11-30 00:00:00    No   \n",
              "\n",
              "  Data morte Surgical outcome  \n",
              "0        NaT                0  \n",
              "1        NaT                0  \n",
              "2        NaT                0  \n",
              "3        NaT                1  \n",
              "4        NaT                1  \n",
              "\n",
              "[5 rows x 27 columns]"
            ]
          },
          "execution_count": 2,
          "metadata": {},
          "output_type": "execute_result"
        }
      ],
      "source": [
        "df = pd.read_excel(\"Database_AI.xlsx\")\n",
        "df.head(5)"
      ]
    },
    {
      "cell_type": "code",
      "execution_count": null,
      "id": "9eb70132",
      "metadata": {
        "id": "9eb70132",
        "outputId": "4c47812c-8e1f-4752-8bf0-e6add5668bd0"
      },
      "outputs": [
        {
          "data": {
            "text/plain": [
              "(192, 27)"
            ]
          },
          "execution_count": 3,
          "metadata": {},
          "output_type": "execute_result"
        }
      ],
      "source": [
        "df.shape"
      ]
    },
    {
      "cell_type": "code",
      "execution_count": null,
      "id": "c5c1f174",
      "metadata": {
        "id": "c5c1f174",
        "outputId": "c38c308d-20c5-421f-ef62-cbdfd74b653d"
      },
      "outputs": [
        {
          "data": {
            "text/plain": [
              "Index(['Filename', 'Data di nascita Paziente', 'Istologia', 'Grading',\n",
              "       'FIGO stage', 'BRCA', 'ECOG Performance Status',\n",
              "       'ca125 (numero intero)', 'he4 (numero intero)',\n",
              "       'ca 15.3 (numero intero)', 'ca 19.9 (numero intero)',\n",
              "       'cea (numero intero)', 'Familiarità neoplasia mammella/ovaio',\n",
              "       'Data TC pre-intervento', 'Data primo intervento',\n",
              "       'Tipologia primo intervento', 'RT', 'Terapia Neoadiuvante', 'IDS',\n",
              "       'Data IDS', 'RT IDS', 'Recidiva', 'Data recidiva', 'Ultimo follow-up',\n",
              "       'Morte', 'Data morte', 'Surgical outcome'],\n",
              "      dtype='object')"
            ]
          },
          "execution_count": 4,
          "metadata": {},
          "output_type": "execute_result"
        }
      ],
      "source": [
        "df.columns"
      ]
    },
    {
      "cell_type": "markdown",
      "id": "f7ca140c",
      "metadata": {
        "id": "f7ca140c"
      },
      "source": [
        "### Renaming features name for better understanding as they are in ittalian language"
      ]
    },
    {
      "cell_type": "code",
      "execution_count": null,
      "id": "1cd9fa50",
      "metadata": {
        "id": "1cd9fa50"
      },
      "outputs": [],
      "source": [
        "df = df.rename(columns = {'Data di nascita Paziente': 'Date of birth Patient','Istologia':'Histology',\n",
        "                          'ca125 (numero intero)':'ca125 (integer)', 'he4 (numero intero)':'he4 (integer)',\n",
        "                          'ca 15.3 (numero intero)':'ca 15.3 (integer)', 'ca 19.9 (numero intero)':'ca 19.9 (integer)',\n",
        "                          'cea (numero intero)':'cea (integer)',\n",
        "                          'Familiarità neoplasia mammella/ovaio':'Familiarity with breast/ovarian cancer',\n",
        "                         'Data TC pre-intervento':'Pre-surgery CT date', 'Data primo intervento':'Date of first intervention',\n",
        "                         'Tipologia primo intervento':'Type of first intervention',\n",
        "                          'Terapia Neoadiuvante':'Neoadjuvant therapy', 'Recidiva':'Relapse',\n",
        "                          'Data recidiva':'Recurrence date', 'Ultimo follow-up':'Last follow up','Morte':'Death', 'Data morte':'Date of death' })"
      ]
    },
    {
      "cell_type": "code",
      "execution_count": null,
      "id": "fd9b3d94",
      "metadata": {
        "id": "fd9b3d94",
        "outputId": "202c2838-0c8d-4994-85f5-2eb44f1f1e99"
      },
      "outputs": [
        {
          "data": {
            "text/html": [
              "<div>\n",
              "<style scoped>\n",
              "    .dataframe tbody tr th:only-of-type {\n",
              "        vertical-align: middle;\n",
              "    }\n",
              "\n",
              "    .dataframe tbody tr th {\n",
              "        vertical-align: top;\n",
              "    }\n",
              "\n",
              "    .dataframe thead th {\n",
              "        text-align: right;\n",
              "    }\n",
              "</style>\n",
              "<table border=\"1\" class=\"dataframe\">\n",
              "  <thead>\n",
              "    <tr style=\"text-align: right;\">\n",
              "      <th></th>\n",
              "      <th>Filename</th>\n",
              "      <th>Date of birth Patient</th>\n",
              "      <th>Histology</th>\n",
              "      <th>Grading</th>\n",
              "      <th>FIGO stage</th>\n",
              "      <th>BRCA</th>\n",
              "      <th>ECOG Performance Status</th>\n",
              "      <th>ca125 (integer)</th>\n",
              "      <th>he4 (integer)</th>\n",
              "      <th>ca 15.3 (integer)</th>\n",
              "      <th>...</th>\n",
              "      <th>Neoadjuvant therapy</th>\n",
              "      <th>IDS</th>\n",
              "      <th>Data IDS</th>\n",
              "      <th>RT IDS</th>\n",
              "      <th>Relapse</th>\n",
              "      <th>Recurrence date</th>\n",
              "      <th>Last follow up</th>\n",
              "      <th>Death</th>\n",
              "      <th>Date of death</th>\n",
              "      <th>Surgical outcome</th>\n",
              "    </tr>\n",
              "  </thead>\n",
              "  <tbody>\n",
              "    <tr>\n",
              "      <th>0</th>\n",
              "      <td>34918138</td>\n",
              "      <td>1962-03-04</td>\n",
              "      <td>Carcinoma Sieroso Alto Grado</td>\n",
              "      <td>3.0</td>\n",
              "      <td>III b</td>\n",
              "      <td>VUS</td>\n",
              "      <td>0.0</td>\n",
              "      <td>963.0</td>\n",
              "      <td>NaN</td>\n",
              "      <td>NaN</td>\n",
              "      <td>...</td>\n",
              "      <td>No</td>\n",
              "      <td>NaN</td>\n",
              "      <td>NaT</td>\n",
              "      <td>NaN</td>\n",
              "      <td>No</td>\n",
              "      <td>NaT</td>\n",
              "      <td>2022-03-09 00:00:00</td>\n",
              "      <td>NaN</td>\n",
              "      <td>NaT</td>\n",
              "      <td>0</td>\n",
              "    </tr>\n",
              "    <tr>\n",
              "      <th>1</th>\n",
              "      <td>56770587</td>\n",
              "      <td>1962-01-15</td>\n",
              "      <td>Altri carcinomi ovarici</td>\n",
              "      <td>NaN</td>\n",
              "      <td>I</td>\n",
              "      <td>NaN</td>\n",
              "      <td>0.0</td>\n",
              "      <td>70.0</td>\n",
              "      <td>95.0</td>\n",
              "      <td>37.0</td>\n",
              "      <td>...</td>\n",
              "      <td>No</td>\n",
              "      <td>NaN</td>\n",
              "      <td>NaT</td>\n",
              "      <td>NaN</td>\n",
              "      <td>No</td>\n",
              "      <td>NaT</td>\n",
              "      <td>2022-01-24 00:00:00</td>\n",
              "      <td>No</td>\n",
              "      <td>NaT</td>\n",
              "      <td>0</td>\n",
              "    </tr>\n",
              "    <tr>\n",
              "      <th>2</th>\n",
              "      <td>79692917</td>\n",
              "      <td>1951-12-01</td>\n",
              "      <td>Carcinoma Sieroso Alto Grado</td>\n",
              "      <td>3.0</td>\n",
              "      <td>III c</td>\n",
              "      <td>non mutata</td>\n",
              "      <td>1.0</td>\n",
              "      <td>236.0</td>\n",
              "      <td>996.0</td>\n",
              "      <td>NaN</td>\n",
              "      <td>...</td>\n",
              "      <td>No</td>\n",
              "      <td>No</td>\n",
              "      <td>NaT</td>\n",
              "      <td>NaN</td>\n",
              "      <td>No</td>\n",
              "      <td>NaT</td>\n",
              "      <td>2021-12-23 00:00:00</td>\n",
              "      <td>No</td>\n",
              "      <td>NaT</td>\n",
              "      <td>0</td>\n",
              "    </tr>\n",
              "    <tr>\n",
              "      <th>3</th>\n",
              "      <td>86250014</td>\n",
              "      <td>1970-08-15</td>\n",
              "      <td>Carcinoma Sieroso Alto Grado</td>\n",
              "      <td>3.0</td>\n",
              "      <td>III c</td>\n",
              "      <td>non mutata</td>\n",
              "      <td>0.0</td>\n",
              "      <td>1228.0</td>\n",
              "      <td>NaN</td>\n",
              "      <td>74.0</td>\n",
              "      <td>...</td>\n",
              "      <td>Si</td>\n",
              "      <td>No</td>\n",
              "      <td>NaT</td>\n",
              "      <td>NaN</td>\n",
              "      <td>Si</td>\n",
              "      <td>2021-10-27</td>\n",
              "      <td>2022-03-02 00:00:00</td>\n",
              "      <td>No</td>\n",
              "      <td>NaT</td>\n",
              "      <td>1</td>\n",
              "    </tr>\n",
              "    <tr>\n",
              "      <th>4</th>\n",
              "      <td>103336863</td>\n",
              "      <td>1954-09-19</td>\n",
              "      <td>Carcinoma Sieroso Alto Grado</td>\n",
              "      <td>3.0</td>\n",
              "      <td>IV</td>\n",
              "      <td>non mutata</td>\n",
              "      <td>0.0</td>\n",
              "      <td>2709.0</td>\n",
              "      <td>387.0</td>\n",
              "      <td>NaN</td>\n",
              "      <td>...</td>\n",
              "      <td>Si</td>\n",
              "      <td>Si</td>\n",
              "      <td>2020-06-16</td>\n",
              "      <td>NaN</td>\n",
              "      <td>Si</td>\n",
              "      <td>2021-05-19</td>\n",
              "      <td>2021-11-30 00:00:00</td>\n",
              "      <td>No</td>\n",
              "      <td>NaT</td>\n",
              "      <td>1</td>\n",
              "    </tr>\n",
              "  </tbody>\n",
              "</table>\n",
              "<p>5 rows × 27 columns</p>\n",
              "</div>"
            ],
            "text/plain": [
              "    Filename Date of birth Patient                     Histology  Grading  \\\n",
              "0   34918138            1962-03-04  Carcinoma Sieroso Alto Grado      3.0   \n",
              "1   56770587            1962-01-15       Altri carcinomi ovarici      NaN   \n",
              "2   79692917            1951-12-01  Carcinoma Sieroso Alto Grado      3.0   \n",
              "3   86250014            1970-08-15  Carcinoma Sieroso Alto Grado      3.0   \n",
              "4  103336863            1954-09-19  Carcinoma Sieroso Alto Grado      3.0   \n",
              "\n",
              "  FIGO stage        BRCA  ECOG Performance Status  ca125 (integer)  \\\n",
              "0      III b         VUS                      0.0            963.0   \n",
              "1          I         NaN                      0.0             70.0   \n",
              "2      III c  non mutata                      1.0            236.0   \n",
              "3      III c  non mutata                      0.0           1228.0   \n",
              "4         IV  non mutata                      0.0           2709.0   \n",
              "\n",
              "   he4 (integer)  ca 15.3 (integer)  ...  Neoadjuvant therapy  IDS   Data IDS  \\\n",
              "0            NaN                NaN  ...                   No  NaN        NaT   \n",
              "1           95.0               37.0  ...                   No  NaN        NaT   \n",
              "2          996.0                NaN  ...                   No   No        NaT   \n",
              "3            NaN               74.0  ...                   Si   No        NaT   \n",
              "4          387.0                NaN  ...                   Si   Si 2020-06-16   \n",
              "\n",
              "  RT IDS Relapse Recurrence date       Last follow up Death Date of death  \\\n",
              "0    NaN      No             NaT  2022-03-09 00:00:00   NaN           NaT   \n",
              "1    NaN      No             NaT  2022-01-24 00:00:00    No           NaT   \n",
              "2    NaN      No             NaT  2021-12-23 00:00:00    No           NaT   \n",
              "3    NaN      Si      2021-10-27  2022-03-02 00:00:00    No           NaT   \n",
              "4    NaN      Si      2021-05-19  2021-11-30 00:00:00    No           NaT   \n",
              "\n",
              "  Surgical outcome  \n",
              "0                0  \n",
              "1                0  \n",
              "2                0  \n",
              "3                1  \n",
              "4                1  \n",
              "\n",
              "[5 rows x 27 columns]"
            ]
          },
          "execution_count": 6,
          "metadata": {},
          "output_type": "execute_result"
        }
      ],
      "source": [
        "df.head(5)"
      ]
    },
    {
      "cell_type": "code",
      "execution_count": null,
      "id": "9c18a851",
      "metadata": {
        "id": "9c18a851",
        "outputId": "6676fb4a-0315-497c-f782-5a9d82750013"
      },
      "outputs": [
        {
          "data": {
            "text/html": [
              "<div>\n",
              "<style scoped>\n",
              "    .dataframe tbody tr th:only-of-type {\n",
              "        vertical-align: middle;\n",
              "    }\n",
              "\n",
              "    .dataframe tbody tr th {\n",
              "        vertical-align: top;\n",
              "    }\n",
              "\n",
              "    .dataframe thead th {\n",
              "        text-align: right;\n",
              "    }\n",
              "</style>\n",
              "<table border=\"1\" class=\"dataframe\">\n",
              "  <thead>\n",
              "    <tr style=\"text-align: right;\">\n",
              "      <th></th>\n",
              "      <th>Filename</th>\n",
              "      <th>Grading</th>\n",
              "      <th>ECOG Performance Status</th>\n",
              "      <th>ca125 (integer)</th>\n",
              "      <th>he4 (integer)</th>\n",
              "      <th>ca 15.3 (integer)</th>\n",
              "      <th>ca 19.9 (integer)</th>\n",
              "      <th>cea (integer)</th>\n",
              "      <th>RT</th>\n",
              "      <th>Surgical outcome</th>\n",
              "    </tr>\n",
              "  </thead>\n",
              "  <tbody>\n",
              "    <tr>\n",
              "      <th>count</th>\n",
              "      <td>1.920000e+02</td>\n",
              "      <td>182.000000</td>\n",
              "      <td>186.000000</td>\n",
              "      <td>181.000000</td>\n",
              "      <td>59.000000</td>\n",
              "      <td>100.0000</td>\n",
              "      <td>125.000000</td>\n",
              "      <td>98.000000</td>\n",
              "      <td>192.000000</td>\n",
              "      <td>192.000000</td>\n",
              "    </tr>\n",
              "    <tr>\n",
              "      <th>mean</th>\n",
              "      <td>5.134584e+09</td>\n",
              "      <td>2.813187</td>\n",
              "      <td>0.290323</td>\n",
              "      <td>1277.732928</td>\n",
              "      <td>554.137288</td>\n",
              "      <td>123.0540</td>\n",
              "      <td>81.573520</td>\n",
              "      <td>1.892143</td>\n",
              "      <td>0.619792</td>\n",
              "      <td>0.328125</td>\n",
              "    </tr>\n",
              "    <tr>\n",
              "      <th>std</th>\n",
              "      <td>3.196767e+09</td>\n",
              "      <td>0.544426</td>\n",
              "      <td>0.478300</td>\n",
              "      <td>1992.102951</td>\n",
              "      <td>749.972414</td>\n",
              "      <td>180.2244</td>\n",
              "      <td>363.843773</td>\n",
              "      <td>2.233028</td>\n",
              "      <td>0.907343</td>\n",
              "      <td>0.470758</td>\n",
              "    </tr>\n",
              "    <tr>\n",
              "      <th>min</th>\n",
              "      <td>3.491814e+07</td>\n",
              "      <td>1.000000</td>\n",
              "      <td>0.000000</td>\n",
              "      <td>4.000000</td>\n",
              "      <td>22.000000</td>\n",
              "      <td>3.0000</td>\n",
              "      <td>0.000000</td>\n",
              "      <td>0.000000</td>\n",
              "      <td>0.000000</td>\n",
              "      <td>0.000000</td>\n",
              "    </tr>\n",
              "    <tr>\n",
              "      <th>25%</th>\n",
              "      <td>1.955027e+09</td>\n",
              "      <td>3.000000</td>\n",
              "      <td>0.000000</td>\n",
              "      <td>186.000000</td>\n",
              "      <td>106.500000</td>\n",
              "      <td>33.7250</td>\n",
              "      <td>5.000000</td>\n",
              "      <td>0.735000</td>\n",
              "      <td>0.000000</td>\n",
              "      <td>0.000000</td>\n",
              "    </tr>\n",
              "    <tr>\n",
              "      <th>50%</th>\n",
              "      <td>5.732242e+09</td>\n",
              "      <td>3.000000</td>\n",
              "      <td>0.000000</td>\n",
              "      <td>545.000000</td>\n",
              "      <td>230.000000</td>\n",
              "      <td>58.0000</td>\n",
              "      <td>8.000000</td>\n",
              "      <td>1.000000</td>\n",
              "      <td>0.000000</td>\n",
              "      <td>0.000000</td>\n",
              "    </tr>\n",
              "    <tr>\n",
              "      <th>75%</th>\n",
              "      <td>8.143270e+09</td>\n",
              "      <td>3.000000</td>\n",
              "      <td>1.000000</td>\n",
              "      <td>1502.000000</td>\n",
              "      <td>705.500000</td>\n",
              "      <td>121.0000</td>\n",
              "      <td>25.000000</td>\n",
              "      <td>2.187500</td>\n",
              "      <td>2.000000</td>\n",
              "      <td>1.000000</td>\n",
              "    </tr>\n",
              "    <tr>\n",
              "      <th>max</th>\n",
              "      <td>9.988702e+09</td>\n",
              "      <td>3.000000</td>\n",
              "      <td>2.000000</td>\n",
              "      <td>14342.000000</td>\n",
              "      <td>3601.000000</td>\n",
              "      <td>914.0000</td>\n",
              "      <td>2724.000000</td>\n",
              "      <td>11.000000</td>\n",
              "      <td>2.000000</td>\n",
              "      <td>1.000000</td>\n",
              "    </tr>\n",
              "  </tbody>\n",
              "</table>\n",
              "</div>"
            ],
            "text/plain": [
              "           Filename     Grading  ECOG Performance Status  ca125 (integer)  \\\n",
              "count  1.920000e+02  182.000000               186.000000       181.000000   \n",
              "mean   5.134584e+09    2.813187                 0.290323      1277.732928   \n",
              "std    3.196767e+09    0.544426                 0.478300      1992.102951   \n",
              "min    3.491814e+07    1.000000                 0.000000         4.000000   \n",
              "25%    1.955027e+09    3.000000                 0.000000       186.000000   \n",
              "50%    5.732242e+09    3.000000                 0.000000       545.000000   \n",
              "75%    8.143270e+09    3.000000                 1.000000      1502.000000   \n",
              "max    9.988702e+09    3.000000                 2.000000     14342.000000   \n",
              "\n",
              "       he4 (integer)  ca 15.3 (integer)  ca 19.9 (integer)  cea (integer)  \\\n",
              "count      59.000000           100.0000         125.000000      98.000000   \n",
              "mean      554.137288           123.0540          81.573520       1.892143   \n",
              "std       749.972414           180.2244         363.843773       2.233028   \n",
              "min        22.000000             3.0000           0.000000       0.000000   \n",
              "25%       106.500000            33.7250           5.000000       0.735000   \n",
              "50%       230.000000            58.0000           8.000000       1.000000   \n",
              "75%       705.500000           121.0000          25.000000       2.187500   \n",
              "max      3601.000000           914.0000        2724.000000      11.000000   \n",
              "\n",
              "               RT  Surgical outcome  \n",
              "count  192.000000        192.000000  \n",
              "mean     0.619792          0.328125  \n",
              "std      0.907343          0.470758  \n",
              "min      0.000000          0.000000  \n",
              "25%      0.000000          0.000000  \n",
              "50%      0.000000          0.000000  \n",
              "75%      2.000000          1.000000  \n",
              "max      2.000000          1.000000  "
            ]
          },
          "execution_count": 7,
          "metadata": {},
          "output_type": "execute_result"
        }
      ],
      "source": [
        "df.describe()"
      ]
    },
    {
      "cell_type": "code",
      "execution_count": null,
      "id": "af551838",
      "metadata": {
        "id": "af551838",
        "outputId": "ba169bad-ad0d-48e0-8dee-3b1a11885431"
      },
      "outputs": [
        {
          "data": {
            "text/plain": [
              "0    129\n",
              "1     63\n",
              "Name: Surgical outcome, dtype: int64"
            ]
          },
          "execution_count": 8,
          "metadata": {},
          "output_type": "execute_result"
        }
      ],
      "source": [
        "df['Surgical outcome'].value_counts()"
      ]
    },
    {
      "cell_type": "code",
      "execution_count": null,
      "id": "531f8781",
      "metadata": {
        "id": "531f8781",
        "outputId": "309f50d5-f9c3-4ab2-8320-401a4ab7bd52"
      },
      "outputs": [
        {
          "name": "stderr",
          "output_type": "stream",
          "text": [
            "/home/moneeb/.local/lib/python3.8/site-packages/seaborn/_decorators.py:36: FutureWarning: Pass the following variable as a keyword arg: x. From version 0.12, the only valid positional argument will be `data`, and passing other arguments without an explicit keyword will result in an error or misinterpretation.\n",
            "  warnings.warn(\n"
          ]
        },
        {
          "data": {
            "text/plain": [
              "<AxesSubplot:xlabel='Surgical outcome', ylabel='count'>"
            ]
          },
          "execution_count": 9,
          "metadata": {},
          "output_type": "execute_result"
        },
        {
          "data": {
            "image/png": "[encoded data removed]",
            "text/plain": [
              "<Figure size 432x288 with 1 Axes>"
            ]
          },
          "metadata": {
            "needs_background": "light"
          },
          "output_type": "display_data"
        }
      ],
      "source": [
        "sns.countplot(df['Surgical outcome'])"
      ]
    },
    {
      "cell_type": "code",
      "execution_count": null,
      "id": "96497e66",
      "metadata": {
        "scrolled": false,
        "id": "96497e66",
        "outputId": "60e56a5d-cbba-4f52-b921-f6781c01431e"
      },
      "outputs": [
        {
          "data": {
            "text/plain": [
              "Filename                                    0\n",
              "Date of birth Patient                       0\n",
              "Histology                                   0\n",
              "Grading                                    10\n",
              "FIGO stage                                  0\n",
              "BRCA                                       44\n",
              "ECOG Performance Status                     6\n",
              "ca125 (integer)                            11\n",
              "he4 (integer)                             133\n",
              "ca 15.3 (integer)                          92\n",
              "ca 19.9 (integer)                          67\n",
              "cea (integer)                              94\n",
              "Familiarity with breast/ovarian cancer      0\n",
              "Pre-surgery CT date                         0\n",
              "Date of first intervention                  0\n",
              "Type of first intervention                  0\n",
              "RT                                          0\n",
              "Neoadjuvant therapy                         0\n",
              "IDS                                        67\n",
              "Data IDS                                  152\n",
              "RT IDS                                    159\n",
              "Relapse                                     0\n",
              "Recurrence date                           154\n",
              "Last follow up                              0\n",
              "Death                                      10\n",
              "Date of death                             175\n",
              "Surgical outcome                            0\n",
              "dtype: int64"
            ]
          },
          "execution_count": 10,
          "metadata": {},
          "output_type": "execute_result"
        }
      ],
      "source": [
        "df.isnull().sum()"
      ]
    },
    {
      "cell_type": "code",
      "execution_count": null,
      "id": "71b0b696",
      "metadata": {
        "id": "71b0b696",
        "outputId": "d0ef53cf-5ffc-473c-f451-cdd64bbe2756"
      },
      "outputs": [
        {
          "data": {
            "text/plain": [
              "(192, 27)"
            ]
          },
          "execution_count": 11,
          "metadata": {},
          "output_type": "execute_result"
        }
      ],
      "source": [
        "df.shape"
      ]
    },
    {
      "cell_type": "code",
      "execution_count": null,
      "id": "cab96c24",
      "metadata": {
        "id": "cab96c24",
        "outputId": "d8d80fd4-2ece-45f1-ea38-6b165c726242"
      },
      "outputs": [
        {
          "data": {
            "text/html": [
              "<div>\n",
              "<style scoped>\n",
              "    .dataframe tbody tr th:only-of-type {\n",
              "        vertical-align: middle;\n",
              "    }\n",
              "\n",
              "    .dataframe tbody tr th {\n",
              "        vertical-align: top;\n",
              "    }\n",
              "\n",
              "    .dataframe thead th {\n",
              "        text-align: right;\n",
              "    }\n",
              "</style>\n",
              "<table border=\"1\" class=\"dataframe\">\n",
              "  <thead>\n",
              "    <tr style=\"text-align: right;\">\n",
              "      <th></th>\n",
              "      <th>total_null</th>\n",
              "      <th>percent_null</th>\n",
              "    </tr>\n",
              "  </thead>\n",
              "  <tbody>\n",
              "    <tr>\n",
              "      <th>Date of death</th>\n",
              "      <td>175</td>\n",
              "      <td>0.911458</td>\n",
              "    </tr>\n",
              "    <tr>\n",
              "      <th>RT IDS</th>\n",
              "      <td>159</td>\n",
              "      <td>0.828125</td>\n",
              "    </tr>\n",
              "    <tr>\n",
              "      <th>Recurrence date</th>\n",
              "      <td>154</td>\n",
              "      <td>0.802083</td>\n",
              "    </tr>\n",
              "    <tr>\n",
              "      <th>Data IDS</th>\n",
              "      <td>152</td>\n",
              "      <td>0.791667</td>\n",
              "    </tr>\n",
              "    <tr>\n",
              "      <th>he4 (integer)</th>\n",
              "      <td>133</td>\n",
              "      <td>0.692708</td>\n",
              "    </tr>\n",
              "  </tbody>\n",
              "</table>\n",
              "</div>"
            ],
            "text/plain": [
              "                 total_null  percent_null\n",
              "Date of death           175      0.911458\n",
              "RT IDS                  159      0.828125\n",
              "Recurrence date         154      0.802083\n",
              "Data IDS                152      0.791667\n",
              "he4 (integer)           133      0.692708"
            ]
          },
          "execution_count": 12,
          "metadata": {},
          "output_type": "execute_result"
        }
      ],
      "source": [
        "#Finding missing data and the percentage of it in each column\n",
        "total = df.isnull().sum().sort_values(ascending = False)\n",
        "percent = (df.isnull().sum() / df.isnull().count()).sort_values(ascending=False)\n",
        "missing_df = pd.concat([total, percent], axis = 1, keys = ['total_null', 'percent_null'])\n",
        "missing_df.head()"
      ]
    },
    {
      "cell_type": "code",
      "execution_count": null,
      "id": "254906df",
      "metadata": {
        "id": "254906df",
        "outputId": "77fdf556-cd0c-4d1a-89e1-8833554153be"
      },
      "outputs": [
        {
          "data": {
            "text/html": [
              "<div>\n",
              "<style scoped>\n",
              "    .dataframe tbody tr th:only-of-type {\n",
              "        vertical-align: middle;\n",
              "    }\n",
              "\n",
              "    .dataframe tbody tr th {\n",
              "        vertical-align: top;\n",
              "    }\n",
              "\n",
              "    .dataframe thead th {\n",
              "        text-align: right;\n",
              "    }\n",
              "</style>\n",
              "<table border=\"1\" class=\"dataframe\">\n",
              "  <thead>\n",
              "    <tr style=\"text-align: right;\">\n",
              "      <th></th>\n",
              "      <th>Histology</th>\n",
              "      <th>Grading</th>\n",
              "      <th>FIGO stage</th>\n",
              "      <th>BRCA</th>\n",
              "      <th>ECOG Performance Status</th>\n",
              "      <th>ca125 (integer)</th>\n",
              "      <th>he4 (integer)</th>\n",
              "      <th>ca 15.3 (integer)</th>\n",
              "      <th>ca 19.9 (integer)</th>\n",
              "      <th>cea (integer)</th>\n",
              "      <th>Familiarity with breast/ovarian cancer</th>\n",
              "      <th>Type of first intervention</th>\n",
              "      <th>RT</th>\n",
              "      <th>Neoadjuvant therapy</th>\n",
              "      <th>IDS</th>\n",
              "      <th>Relapse</th>\n",
              "      <th>Death</th>\n",
              "      <th>Surgical outcome</th>\n",
              "    </tr>\n",
              "  </thead>\n",
              "  <tbody>\n",
              "    <tr>\n",
              "      <th>0</th>\n",
              "      <td>Carcinoma Sieroso Alto Grado</td>\n",
              "      <td>3.0</td>\n",
              "      <td>III b</td>\n",
              "      <td>VUS</td>\n",
              "      <td>0.0</td>\n",
              "      <td>963.0</td>\n",
              "      <td>NaN</td>\n",
              "      <td>NaN</td>\n",
              "      <td>NaN</td>\n",
              "      <td>NaN</td>\n",
              "      <td>Mammella</td>\n",
              "      <td>PDS</td>\n",
              "      <td>0</td>\n",
              "      <td>No</td>\n",
              "      <td>NaN</td>\n",
              "      <td>No</td>\n",
              "      <td>NaN</td>\n",
              "      <td>0</td>\n",
              "    </tr>\n",
              "    <tr>\n",
              "      <th>1</th>\n",
              "      <td>Altri carcinomi ovarici</td>\n",
              "      <td>NaN</td>\n",
              "      <td>I</td>\n",
              "      <td>NaN</td>\n",
              "      <td>0.0</td>\n",
              "      <td>70.0</td>\n",
              "      <td>95.0</td>\n",
              "      <td>37.0</td>\n",
              "      <td>76.0</td>\n",
              "      <td>NaN</td>\n",
              "      <td>Mammella</td>\n",
              "      <td>PDS</td>\n",
              "      <td>0</td>\n",
              "      <td>No</td>\n",
              "      <td>NaN</td>\n",
              "      <td>No</td>\n",
              "      <td>No</td>\n",
              "      <td>0</td>\n",
              "    </tr>\n",
              "    <tr>\n",
              "      <th>2</th>\n",
              "      <td>Carcinoma Sieroso Alto Grado</td>\n",
              "      <td>3.0</td>\n",
              "      <td>III c</td>\n",
              "      <td>non mutata</td>\n",
              "      <td>1.0</td>\n",
              "      <td>236.0</td>\n",
              "      <td>996.0</td>\n",
              "      <td>NaN</td>\n",
              "      <td>6.0</td>\n",
              "      <td>1.0</td>\n",
              "      <td>No</td>\n",
              "      <td>PDS</td>\n",
              "      <td>0</td>\n",
              "      <td>No</td>\n",
              "      <td>No</td>\n",
              "      <td>No</td>\n",
              "      <td>No</td>\n",
              "      <td>0</td>\n",
              "    </tr>\n",
              "    <tr>\n",
              "      <th>3</th>\n",
              "      <td>Carcinoma Sieroso Alto Grado</td>\n",
              "      <td>3.0</td>\n",
              "      <td>III c</td>\n",
              "      <td>non mutata</td>\n",
              "      <td>0.0</td>\n",
              "      <td>1228.0</td>\n",
              "      <td>NaN</td>\n",
              "      <td>74.0</td>\n",
              "      <td>13.0</td>\n",
              "      <td>1.6</td>\n",
              "      <td>Mammella</td>\n",
              "      <td>LPS DGN</td>\n",
              "      <td>2</td>\n",
              "      <td>Si</td>\n",
              "      <td>No</td>\n",
              "      <td>Si</td>\n",
              "      <td>No</td>\n",
              "      <td>1</td>\n",
              "    </tr>\n",
              "    <tr>\n",
              "      <th>4</th>\n",
              "      <td>Carcinoma Sieroso Alto Grado</td>\n",
              "      <td>3.0</td>\n",
              "      <td>IV</td>\n",
              "      <td>non mutata</td>\n",
              "      <td>0.0</td>\n",
              "      <td>2709.0</td>\n",
              "      <td>387.0</td>\n",
              "      <td>NaN</td>\n",
              "      <td>NaN</td>\n",
              "      <td>NaN</td>\n",
              "      <td>No</td>\n",
              "      <td>LPS diagnostica</td>\n",
              "      <td>2</td>\n",
              "      <td>Si</td>\n",
              "      <td>Si</td>\n",
              "      <td>Si</td>\n",
              "      <td>No</td>\n",
              "      <td>1</td>\n",
              "    </tr>\n",
              "  </tbody>\n",
              "</table>\n",
              "</div>"
            ],
            "text/plain": [
              "                      Histology  Grading FIGO stage        BRCA  \\\n",
              "0  Carcinoma Sieroso Alto Grado      3.0      III b         VUS   \n",
              "1       Altri carcinomi ovarici      NaN          I         NaN   \n",
              "2  Carcinoma Sieroso Alto Grado      3.0      III c  non mutata   \n",
              "3  Carcinoma Sieroso Alto Grado      3.0      III c  non mutata   \n",
              "4  Carcinoma Sieroso Alto Grado      3.0         IV  non mutata   \n",
              "\n",
              "   ECOG Performance Status  ca125 (integer)  he4 (integer)  ca 15.3 (integer)  \\\n",
              "0                      0.0            963.0            NaN                NaN   \n",
              "1                      0.0             70.0           95.0               37.0   \n",
              "2                      1.0            236.0          996.0                NaN   \n",
              "3                      0.0           1228.0            NaN               74.0   \n",
              "4                      0.0           2709.0          387.0                NaN   \n",
              "\n",
              "   ca 19.9 (integer)  cea (integer) Familiarity with breast/ovarian cancer  \\\n",
              "0                NaN            NaN                               Mammella   \n",
              "1               76.0            NaN                               Mammella   \n",
              "2                6.0            1.0                                     No   \n",
              "3               13.0            1.6                               Mammella   \n",
              "4                NaN            NaN                                     No   \n",
              "\n",
              "  Type of first intervention  RT Neoadjuvant therapy  IDS Relapse Death  \\\n",
              "0                        PDS   0                  No  NaN      No   NaN   \n",
              "1                        PDS   0                  No  NaN      No    No   \n",
              "2                        PDS   0                  No   No      No    No   \n",
              "3                    LPS DGN   2                  Si   No      Si    No   \n",
              "4            LPS diagnostica   2                  Si   Si      Si    No   \n",
              "\n",
              "   Surgical outcome  \n",
              "0                 0  \n",
              "1                 0  \n",
              "2                 0  \n",
              "3                 1  \n",
              "4                 1  "
            ]
          },
          "execution_count": 13,
          "metadata": {},
          "output_type": "execute_result"
        }
      ],
      "source": [
        "df = df.drop(['Filename','Date of birth Patient', 'Date of death', 'RT IDS', 'Recurrence date','Data IDS' , 'Last follow up',\n",
        "              'Pre-surgery CT date', 'Date of first intervention','Recurrence date', 'Date of death'],axis='columns')\n",
        "df.head()"
      ]
    },
    {
      "cell_type": "code",
      "execution_count": null,
      "id": "cdbb8690",
      "metadata": {
        "id": "cdbb8690",
        "outputId": "4e540a4a-bda3-411a-b67c-996369ee1a15"
      },
      "outputs": [
        {
          "data": {
            "text/plain": [
              "(192, 18)"
            ]
          },
          "execution_count": 14,
          "metadata": {},
          "output_type": "execute_result"
        }
      ],
      "source": [
        "df.shape"
      ]
    },
    {
      "cell_type": "code",
      "execution_count": null,
      "id": "8d647874",
      "metadata": {
        "id": "8d647874",
        "outputId": "ffc6e480-4169-40dc-8285-69f14761245b"
      },
      "outputs": [
        {
          "data": {
            "text/html": [
              "<div>\n",
              "<style scoped>\n",
              "    .dataframe tbody tr th:only-of-type {\n",
              "        vertical-align: middle;\n",
              "    }\n",
              "\n",
              "    .dataframe tbody tr th {\n",
              "        vertical-align: top;\n",
              "    }\n",
              "\n",
              "    .dataframe thead th {\n",
              "        text-align: right;\n",
              "    }\n",
              "</style>\n",
              "<table border=\"1\" class=\"dataframe\">\n",
              "  <thead>\n",
              "    <tr style=\"text-align: right;\">\n",
              "      <th></th>\n",
              "      <th>total_null</th>\n",
              "      <th>percent_null</th>\n",
              "    </tr>\n",
              "  </thead>\n",
              "  <tbody>\n",
              "    <tr>\n",
              "      <th>he4 (integer)</th>\n",
              "      <td>133</td>\n",
              "      <td>0.692708</td>\n",
              "    </tr>\n",
              "    <tr>\n",
              "      <th>cea (integer)</th>\n",
              "      <td>94</td>\n",
              "      <td>0.489583</td>\n",
              "    </tr>\n",
              "    <tr>\n",
              "      <th>ca 15.3 (integer)</th>\n",
              "      <td>92</td>\n",
              "      <td>0.479167</td>\n",
              "    </tr>\n",
              "    <tr>\n",
              "      <th>ca 19.9 (integer)</th>\n",
              "      <td>67</td>\n",
              "      <td>0.348958</td>\n",
              "    </tr>\n",
              "    <tr>\n",
              "      <th>IDS</th>\n",
              "      <td>67</td>\n",
              "      <td>0.348958</td>\n",
              "    </tr>\n",
              "  </tbody>\n",
              "</table>\n",
              "</div>"
            ],
            "text/plain": [
              "                   total_null  percent_null\n",
              "he4 (integer)             133      0.692708\n",
              "cea (integer)              94      0.489583\n",
              "ca 15.3 (integer)          92      0.479167\n",
              "ca 19.9 (integer)          67      0.348958\n",
              "IDS                        67      0.348958"
            ]
          },
          "execution_count": 15,
          "metadata": {},
          "output_type": "execute_result"
        }
      ],
      "source": [
        "#Finding missing data and the percentage of it in each column\n",
        "total = df.isnull().sum().sort_values(ascending = False)\n",
        "percent = (df.isnull().sum() / df.isnull().count()).sort_values(ascending=False)\n",
        "missing_df = pd.concat([total, percent], axis = 1, keys = ['total_null', 'percent_null'])\n",
        "missing_df.head()"
      ]
    },
    {
      "cell_type": "code",
      "execution_count": null,
      "id": "8b4e6a21",
      "metadata": {
        "id": "8b4e6a21",
        "outputId": "d3383308-2200-44ac-ac84-e2398e925583"
      },
      "outputs": [
        {
          "name": "stdout",
          "output_type": "stream",
          "text": [
            "534\n"
          ]
        }
      ],
      "source": [
        "total = 0\n",
        "for i in missing_df['total_null']:\n",
        "    total += i\n",
        "print(total)"
      ]
    },
    {
      "cell_type": "code",
      "execution_count": null,
      "id": "c8d4f5ed",
      "metadata": {
        "scrolled": false,
        "id": "c8d4f5ed",
        "outputId": "a2a17719-9385-48b9-ab3b-7ee770546538"
      },
      "outputs": [
        {
          "name": "stdout",
          "output_type": "stream",
          "text": [
            "he4 (integer)\n"
          ]
        },
        {
          "data": {
            "image/png": "[encoded data removed]",
            "text/plain": [
              "<Figure size 432x288 with 1 Axes>"
            ]
          },
          "metadata": {
            "needs_background": "light"
          },
          "output_type": "display_data"
        },
        {
          "name": "stdout",
          "output_type": "stream",
          "text": [
            "cea (integer)\n"
          ]
        },
        {
          "data": {
            "image/png": "[encoded data removed]",
            "text/plain": [
              "<Figure size 432x288 with 1 Axes>"
            ]
          },
          "metadata": {
            "needs_background": "light"
          },
          "output_type": "display_data"
        },
        {
          "name": "stdout",
          "output_type": "stream",
          "text": [
            "ca 15.3 (integer)\n"
          ]
        },
        {
          "data": {
            "image/png": "[encoded data removed]",
            "text/plain": [
              "<Figure size 432x288 with 1 Axes>"
            ]
          },
          "metadata": {
            "needs_background": "light"
          },
          "output_type": "display_data"
        },
        {
          "name": "stdout",
          "output_type": "stream",
          "text": [
            "ca 19.9 (integer)\n"
          ]
        },
        {
          "data": {
            "image/png": "[encoded data removed]",
            "text/plain": [
              "<Figure size 432x288 with 1 Axes>"
            ]
          },
          "metadata": {
            "needs_background": "light"
          },
          "output_type": "display_data"
        },
        {
          "name": "stdout",
          "output_type": "stream",
          "text": [
            "IDS\n"
          ]
        },
        {
          "data": {
            "image/png": "[encoded data removed]",
            "text/plain": [
              "<Figure size 432x288 with 1 Axes>"
            ]
          },
          "metadata": {
            "needs_background": "light"
          },
          "output_type": "display_data"
        },
        {
          "name": "stdout",
          "output_type": "stream",
          "text": [
            "BRCA\n"
          ]
        },
        {
          "data": {
            "image/png": "[encoded data removed]",
            "text/plain": [
              "<Figure size 432x288 with 1 Axes>"
            ]
          },
          "metadata": {
            "needs_background": "light"
          },
          "output_type": "display_data"
        },
        {
          "name": "stdout",
          "output_type": "stream",
          "text": [
            "ca125 (integer)\n"
          ]
        },
        {
          "data": {
            "image/png": "[encoded data removed]",
            "text/plain": [
              "<Figure size 432x288 with 1 Axes>"
            ]
          },
          "metadata": {
            "needs_background": "light"
          },
          "output_type": "display_data"
        },
        {
          "name": "stdout",
          "output_type": "stream",
          "text": [
            "Death\n"
          ]
        },
        {
          "data": {
            "image/png": "[encoded data removed]",
            "text/plain": [
              "<Figure size 432x288 with 1 Axes>"
            ]
          },
          "metadata": {
            "needs_background": "light"
          },
          "output_type": "display_data"
        },
        {
          "name": "stdout",
          "output_type": "stream",
          "text": [
            "Grading\n"
          ]
        },
        {
          "data": {
            "image/png": "[encoded data removed]",
            "text/plain": [
              "<Figure size 432x288 with 1 Axes>"
            ]
          },
          "metadata": {
            "needs_background": "light"
          },
          "output_type": "display_data"
        },
        {
          "name": "stdout",
          "output_type": "stream",
          "text": [
            "ECOG Performance Status\n"
          ]
        },
        {
          "data": {
            "image/png": "[encoded data removed]",
            "text/plain": [
              "<Figure size 432x288 with 1 Axes>"
            ]
          },
          "metadata": {
            "needs_background": "light"
          },
          "output_type": "display_data"
        },
        {
          "name": "stdout",
          "output_type": "stream",
          "text": [
            "Neoadjuvant therapy\n"
          ]
        },
        {
          "data": {
            "image/png": "[encoded data removed]",
            "text/plain": [
              "<Figure size 432x288 with 1 Axes>"
            ]
          },
          "metadata": {
            "needs_background": "light"
          },
          "output_type": "display_data"
        },
        {
          "name": "stdout",
          "output_type": "stream",
          "text": [
            "Relapse\n"
          ]
        },
        {
          "data": {
            "image/png": "[encoded data removed]",
            "text/plain": [
              "<Figure size 432x288 with 1 Axes>"
            ]
          },
          "metadata": {
            "needs_background": "light"
          },
          "output_type": "display_data"
        },
        {
          "name": "stdout",
          "output_type": "stream",
          "text": [
            "Histology\n"
          ]
        },
        {
          "data": {
            "image/png": "[encoded data removed]",
            "text/plain": [
              "<Figure size 432x288 with 1 Axes>"
            ]
          },
          "metadata": {
            "needs_background": "light"
          },
          "output_type": "display_data"
        },
        {
          "name": "stdout",
          "output_type": "stream",
          "text": [
            "RT\n"
          ]
        },
        {
          "data": {
            "image/png": "[encoded data removed]",
            "text/plain": [
              "<Figure size 432x288 with 1 Axes>"
            ]
          },
          "metadata": {
            "needs_background": "light"
          },
          "output_type": "display_data"
        },
        {
          "name": "stdout",
          "output_type": "stream",
          "text": [
            "Type of first intervention\n"
          ]
        },
        {
          "data": {
            "image/png": "[encoded data removed]",
            "text/plain": [
              "<Figure size 432x288 with 1 Axes>"
            ]
          },
          "metadata": {
            "needs_background": "light"
          },
          "output_type": "display_data"
        },
        {
          "name": "stdout",
          "output_type": "stream",
          "text": [
            "Familiarity with breast/ovarian cancer\n"
          ]
        },
        {
          "data": {
            "image/png": "[encoded data removed]",
            "text/plain": [
              "<Figure size 432x288 with 1 Axes>"
            ]
          },
          "metadata": {
            "needs_background": "light"
          },
          "output_type": "display_data"
        },
        {
          "name": "stdout",
          "output_type": "stream",
          "text": [
            "FIGO stage\n"
          ]
        },
        {
          "data": {
            "image/png": "[encoded data removed]",
            "text/plain": [
              "<Figure size 432x288 with 1 Axes>"
            ]
          },
          "metadata": {
            "needs_background": "light"
          },
          "output_type": "display_data"
        },
        {
          "name": "stdout",
          "output_type": "stream",
          "text": [
            "Surgical outcome\n"
          ]
        },
        {
          "data": {
            "image/png": "[encoded data removed]",
            "text/plain": [
              "<Figure size 432x288 with 1 Axes>"
            ]
          },
          "metadata": {
            "needs_background": "light"
          },
          "output_type": "display_data"
        }
      ],
      "source": [
        "for missing_column in missing_df.index[:18]:\n",
        "    df[missing_column].value_counts().plot.bar()\n",
        "    print(missing_column)\n",
        "    plt.show()"
      ]
    },
    {
      "cell_type": "code",
      "execution_count": null,
      "id": "d17c5b01",
      "metadata": {
        "id": "d17c5b01"
      },
      "outputs": [],
      "source": [
        "for column in missing_df.index[:18]:\n",
        "    df[column].fillna(df[column].mode()[0], inplace=True)"
      ]
    },
    {
      "cell_type": "code",
      "execution_count": null,
      "id": "3416ada4",
      "metadata": {
        "id": "3416ada4",
        "outputId": "db591024-82d1-421e-8feb-6e3dc6e12a1f"
      },
      "outputs": [
        {
          "data": {
            "text/plain": [
              "Histology                                 0\n",
              "Grading                                   0\n",
              "FIGO stage                                0\n",
              "BRCA                                      0\n",
              "ECOG Performance Status                   0\n",
              "ca125 (integer)                           0\n",
              "he4 (integer)                             0\n",
              "ca 15.3 (integer)                         0\n",
              "ca 19.9 (integer)                         0\n",
              "cea (integer)                             0\n",
              "Familiarity with breast/ovarian cancer    0\n",
              "Type of first intervention                0\n",
              "RT                                        0\n",
              "Neoadjuvant therapy                       0\n",
              "IDS                                       0\n",
              "Relapse                                   0\n",
              "Death                                     0\n",
              "Surgical outcome                          0\n",
              "dtype: int64"
            ]
          },
          "execution_count": 19,
          "metadata": {},
          "output_type": "execute_result"
        }
      ],
      "source": [
        "df.isnull().sum()"
      ]
    },
    {
      "cell_type": "code",
      "execution_count": null,
      "id": "fd7826e0",
      "metadata": {
        "scrolled": true,
        "id": "fd7826e0",
        "outputId": "6bc6cac1-a9f3-4701-a547-66d6ba85b8ab"
      },
      "outputs": [
        {
          "data": {
            "text/plain": [
              "Histology                                 False\n",
              "Grading                                   False\n",
              "FIGO stage                                False\n",
              "BRCA                                      False\n",
              "ECOG Performance Status                   False\n",
              "ca125 (integer)                           False\n",
              "he4 (integer)                             False\n",
              "ca 15.3 (integer)                         False\n",
              "ca 19.9 (integer)                         False\n",
              "cea (integer)                             False\n",
              "Familiarity with breast/ovarian cancer    False\n",
              "Type of first intervention                False\n",
              "RT                                        False\n",
              "Neoadjuvant therapy                       False\n",
              "IDS                                       False\n",
              "Relapse                                   False\n",
              "Death                                     False\n",
              "Surgical outcome                          False\n",
              "dtype: bool"
            ]
          },
          "execution_count": 20,
          "metadata": {},
          "output_type": "execute_result"
        }
      ],
      "source": [
        "df.isnull().any()"
      ]
    },
    {
      "cell_type": "code",
      "execution_count": null,
      "id": "e3d3b7e4",
      "metadata": {
        "id": "e3d3b7e4",
        "outputId": "682957bc-f96e-44de-90f7-c4e5af646ebe"
      },
      "outputs": [
        {
          "data": {
            "text/html": [
              "<div>\n",
              "<style scoped>\n",
              "    .dataframe tbody tr th:only-of-type {\n",
              "        vertical-align: middle;\n",
              "    }\n",
              "\n",
              "    .dataframe tbody tr th {\n",
              "        vertical-align: top;\n",
              "    }\n",
              "\n",
              "    .dataframe thead th {\n",
              "        text-align: right;\n",
              "    }\n",
              "</style>\n",
              "<table border=\"1\" class=\"dataframe\">\n",
              "  <thead>\n",
              "    <tr style=\"text-align: right;\">\n",
              "      <th></th>\n",
              "      <th>Histology</th>\n",
              "      <th>Grading</th>\n",
              "      <th>FIGO stage</th>\n",
              "      <th>BRCA</th>\n",
              "      <th>ECOG Performance Status</th>\n",
              "      <th>ca125 (integer)</th>\n",
              "      <th>he4 (integer)</th>\n",
              "      <th>ca 15.3 (integer)</th>\n",
              "      <th>ca 19.9 (integer)</th>\n",
              "      <th>cea (integer)</th>\n",
              "      <th>Familiarity with breast/ovarian cancer</th>\n",
              "      <th>Type of first intervention</th>\n",
              "      <th>RT</th>\n",
              "      <th>Neoadjuvant therapy</th>\n",
              "      <th>IDS</th>\n",
              "      <th>Relapse</th>\n",
              "      <th>Death</th>\n",
              "      <th>Surgical outcome</th>\n",
              "    </tr>\n",
              "  </thead>\n",
              "  <tbody>\n",
              "    <tr>\n",
              "      <th>0</th>\n",
              "      <td>Carcinoma Sieroso Alto Grado</td>\n",
              "      <td>3.0</td>\n",
              "      <td>III b</td>\n",
              "      <td>VUS</td>\n",
              "      <td>0.0</td>\n",
              "      <td>963.0</td>\n",
              "      <td>22.0</td>\n",
              "      <td>5.0</td>\n",
              "      <td>5.0</td>\n",
              "      <td>1.0</td>\n",
              "      <td>Mammella</td>\n",
              "      <td>PDS</td>\n",
              "      <td>0</td>\n",
              "      <td>No</td>\n",
              "      <td>No</td>\n",
              "      <td>No</td>\n",
              "      <td>No</td>\n",
              "      <td>0</td>\n",
              "    </tr>\n",
              "    <tr>\n",
              "      <th>1</th>\n",
              "      <td>Altri carcinomi ovarici</td>\n",
              "      <td>3.0</td>\n",
              "      <td>I</td>\n",
              "      <td>non mutata</td>\n",
              "      <td>0.0</td>\n",
              "      <td>70.0</td>\n",
              "      <td>95.0</td>\n",
              "      <td>37.0</td>\n",
              "      <td>76.0</td>\n",
              "      <td>1.0</td>\n",
              "      <td>Mammella</td>\n",
              "      <td>PDS</td>\n",
              "      <td>0</td>\n",
              "      <td>No</td>\n",
              "      <td>No</td>\n",
              "      <td>No</td>\n",
              "      <td>No</td>\n",
              "      <td>0</td>\n",
              "    </tr>\n",
              "    <tr>\n",
              "      <th>2</th>\n",
              "      <td>Carcinoma Sieroso Alto Grado</td>\n",
              "      <td>3.0</td>\n",
              "      <td>III c</td>\n",
              "      <td>non mutata</td>\n",
              "      <td>1.0</td>\n",
              "      <td>236.0</td>\n",
              "      <td>996.0</td>\n",
              "      <td>5.0</td>\n",
              "      <td>6.0</td>\n",
              "      <td>1.0</td>\n",
              "      <td>No</td>\n",
              "      <td>PDS</td>\n",
              "      <td>0</td>\n",
              "      <td>No</td>\n",
              "      <td>No</td>\n",
              "      <td>No</td>\n",
              "      <td>No</td>\n",
              "      <td>0</td>\n",
              "    </tr>\n",
              "    <tr>\n",
              "      <th>3</th>\n",
              "      <td>Carcinoma Sieroso Alto Grado</td>\n",
              "      <td>3.0</td>\n",
              "      <td>III c</td>\n",
              "      <td>non mutata</td>\n",
              "      <td>0.0</td>\n",
              "      <td>1228.0</td>\n",
              "      <td>22.0</td>\n",
              "      <td>74.0</td>\n",
              "      <td>13.0</td>\n",
              "      <td>1.6</td>\n",
              "      <td>Mammella</td>\n",
              "      <td>LPS DGN</td>\n",
              "      <td>2</td>\n",
              "      <td>Si</td>\n",
              "      <td>No</td>\n",
              "      <td>Si</td>\n",
              "      <td>No</td>\n",
              "      <td>1</td>\n",
              "    </tr>\n",
              "    <tr>\n",
              "      <th>4</th>\n",
              "      <td>Carcinoma Sieroso Alto Grado</td>\n",
              "      <td>3.0</td>\n",
              "      <td>IV</td>\n",
              "      <td>non mutata</td>\n",
              "      <td>0.0</td>\n",
              "      <td>2709.0</td>\n",
              "      <td>387.0</td>\n",
              "      <td>5.0</td>\n",
              "      <td>5.0</td>\n",
              "      <td>1.0</td>\n",
              "      <td>No</td>\n",
              "      <td>LPS diagnostica</td>\n",
              "      <td>2</td>\n",
              "      <td>Si</td>\n",
              "      <td>Si</td>\n",
              "      <td>Si</td>\n",
              "      <td>No</td>\n",
              "      <td>1</td>\n",
              "    </tr>\n",
              "  </tbody>\n",
              "</table>\n",
              "</div>"
            ],
            "text/plain": [
              "                      Histology  Grading FIGO stage        BRCA  \\\n",
              "0  Carcinoma Sieroso Alto Grado      3.0      III b         VUS   \n",
              "1       Altri carcinomi ovarici      3.0          I  non mutata   \n",
              "2  Carcinoma Sieroso Alto Grado      3.0      III c  non mutata   \n",
              "3  Carcinoma Sieroso Alto Grado      3.0      III c  non mutata   \n",
              "4  Carcinoma Sieroso Alto Grado      3.0         IV  non mutata   \n",
              "\n",
              "   ECOG Performance Status  ca125 (integer)  he4 (integer)  ca 15.3 (integer)  \\\n",
              "0                      0.0            963.0           22.0                5.0   \n",
              "1                      0.0             70.0           95.0               37.0   \n",
              "2                      1.0            236.0          996.0                5.0   \n",
              "3                      0.0           1228.0           22.0               74.0   \n",
              "4                      0.0           2709.0          387.0                5.0   \n",
              "\n",
              "   ca 19.9 (integer)  cea (integer) Familiarity with breast/ovarian cancer  \\\n",
              "0                5.0            1.0                               Mammella   \n",
              "1               76.0            1.0                               Mammella   \n",
              "2                6.0            1.0                                     No   \n",
              "3               13.0            1.6                               Mammella   \n",
              "4                5.0            1.0                                     No   \n",
              "\n",
              "  Type of first intervention  RT Neoadjuvant therapy IDS Relapse Death  \\\n",
              "0                        PDS   0                  No  No      No    No   \n",
              "1                        PDS   0                  No  No      No    No   \n",
              "2                        PDS   0                  No  No      No    No   \n",
              "3                    LPS DGN   2                  Si  No      Si    No   \n",
              "4            LPS diagnostica   2                  Si  Si      Si    No   \n",
              "\n",
              "   Surgical outcome  \n",
              "0                 0  \n",
              "1                 0  \n",
              "2                 0  \n",
              "3                 1  \n",
              "4                 1  "
            ]
          },
          "execution_count": 21,
          "metadata": {},
          "output_type": "execute_result"
        }
      ],
      "source": [
        "df.head(5)"
      ]
    },
    {
      "cell_type": "code",
      "execution_count": null,
      "id": "220085a6",
      "metadata": {
        "id": "220085a6"
      },
      "outputs": [],
      "source": [
        "df1 = df.copy()"
      ]
    },
    {
      "cell_type": "code",
      "execution_count": null,
      "id": "4d36855a",
      "metadata": {
        "id": "4d36855a"
      },
      "outputs": [],
      "source": [
        "le = LabelEncoder()\n",
        "\n",
        "df1['Histology'] = le.fit_transform(df1['Histology'])\n",
        "df1['FIGO stage'] = le.fit_transform(df1['FIGO stage'])\n",
        "df1['BRCA'] = le.fit_transform(df1['BRCA'])\n",
        "\n",
        "df1['Familiarity with breast/ovarian cancer'] = le.fit_transform(df1['Familiarity with breast/ovarian cancer'])\n",
        "df1['Type of first intervention'] = le.fit_transform(df1['Type of first intervention'])\n",
        "\n",
        "df1['Histology'] = le.fit_transform(df1['Histology'])\n",
        "df1['IDS'] = le.fit_transform(df1['IDS'])\n",
        "df1['Relapse'] = le.fit_transform(df1['Relapse'])\n",
        "df1['Neoadjuvant therapy'] = le.fit_transform(df1['Neoadjuvant therapy'])\n",
        "df1['Death'] = le.fit_transform(df1['Death'])\n"
      ]
    },
    {
      "cell_type": "code",
      "execution_count": null,
      "id": "f2134220",
      "metadata": {
        "scrolled": false,
        "id": "f2134220",
        "outputId": "c61a7c67-d990-4f52-ba99-38cc7045ad6a"
      },
      "outputs": [
        {
          "data": {
            "text/html": [
              "<div>\n",
              "<style scoped>\n",
              "    .dataframe tbody tr th:only-of-type {\n",
              "        vertical-align: middle;\n",
              "    }\n",
              "\n",
              "    .dataframe tbody tr th {\n",
              "        vertical-align: top;\n",
              "    }\n",
              "\n",
              "    .dataframe thead th {\n",
              "        text-align: right;\n",
              "    }\n",
              "</style>\n",
              "<table border=\"1\" class=\"dataframe\">\n",
              "  <thead>\n",
              "    <tr style=\"text-align: right;\">\n",
              "      <th></th>\n",
              "      <th>Histology</th>\n",
              "      <th>Grading</th>\n",
              "      <th>FIGO stage</th>\n",
              "      <th>BRCA</th>\n",
              "      <th>ECOG Performance Status</th>\n",
              "      <th>ca125 (integer)</th>\n",
              "      <th>he4 (integer)</th>\n",
              "      <th>ca 15.3 (integer)</th>\n",
              "      <th>ca 19.9 (integer)</th>\n",
              "      <th>cea (integer)</th>\n",
              "      <th>Familiarity with breast/ovarian cancer</th>\n",
              "      <th>Type of first intervention</th>\n",
              "      <th>RT</th>\n",
              "      <th>Neoadjuvant therapy</th>\n",
              "      <th>IDS</th>\n",
              "      <th>Relapse</th>\n",
              "      <th>Death</th>\n",
              "      <th>Surgical outcome</th>\n",
              "    </tr>\n",
              "  </thead>\n",
              "  <tbody>\n",
              "    <tr>\n",
              "      <th>0</th>\n",
              "      <td>4</td>\n",
              "      <td>3.0</td>\n",
              "      <td>3</td>\n",
              "      <td>0</td>\n",
              "      <td>0.0</td>\n",
              "      <td>963.0</td>\n",
              "      <td>22.0</td>\n",
              "      <td>5.0</td>\n",
              "      <td>5.0</td>\n",
              "      <td>1.0</td>\n",
              "      <td>1</td>\n",
              "      <td>19</td>\n",
              "      <td>0</td>\n",
              "      <td>0</td>\n",
              "      <td>0</td>\n",
              "      <td>0</td>\n",
              "      <td>0</td>\n",
              "      <td>0</td>\n",
              "    </tr>\n",
              "    <tr>\n",
              "      <th>1</th>\n",
              "      <td>0</td>\n",
              "      <td>3.0</td>\n",
              "      <td>0</td>\n",
              "      <td>6</td>\n",
              "      <td>0.0</td>\n",
              "      <td>70.0</td>\n",
              "      <td>95.0</td>\n",
              "      <td>37.0</td>\n",
              "      <td>76.0</td>\n",
              "      <td>1.0</td>\n",
              "      <td>1</td>\n",
              "      <td>19</td>\n",
              "      <td>0</td>\n",
              "      <td>0</td>\n",
              "      <td>0</td>\n",
              "      <td>0</td>\n",
              "      <td>0</td>\n",
              "      <td>0</td>\n",
              "    </tr>\n",
              "    <tr>\n",
              "      <th>2</th>\n",
              "      <td>4</td>\n",
              "      <td>3.0</td>\n",
              "      <td>4</td>\n",
              "      <td>6</td>\n",
              "      <td>1.0</td>\n",
              "      <td>236.0</td>\n",
              "      <td>996.0</td>\n",
              "      <td>5.0</td>\n",
              "      <td>6.0</td>\n",
              "      <td>1.0</td>\n",
              "      <td>2</td>\n",
              "      <td>19</td>\n",
              "      <td>0</td>\n",
              "      <td>0</td>\n",
              "      <td>0</td>\n",
              "      <td>0</td>\n",
              "      <td>0</td>\n",
              "      <td>0</td>\n",
              "    </tr>\n",
              "    <tr>\n",
              "      <th>3</th>\n",
              "      <td>4</td>\n",
              "      <td>3.0</td>\n",
              "      <td>4</td>\n",
              "      <td>6</td>\n",
              "      <td>0.0</td>\n",
              "      <td>1228.0</td>\n",
              "      <td>22.0</td>\n",
              "      <td>74.0</td>\n",
              "      <td>13.0</td>\n",
              "      <td>1.6</td>\n",
              "      <td>1</td>\n",
              "      <td>8</td>\n",
              "      <td>2</td>\n",
              "      <td>1</td>\n",
              "      <td>0</td>\n",
              "      <td>1</td>\n",
              "      <td>0</td>\n",
              "      <td>1</td>\n",
              "    </tr>\n",
              "    <tr>\n",
              "      <th>4</th>\n",
              "      <td>4</td>\n",
              "      <td>3.0</td>\n",
              "      <td>5</td>\n",
              "      <td>6</td>\n",
              "      <td>0.0</td>\n",
              "      <td>2709.0</td>\n",
              "      <td>387.0</td>\n",
              "      <td>5.0</td>\n",
              "      <td>5.0</td>\n",
              "      <td>1.0</td>\n",
              "      <td>2</td>\n",
              "      <td>12</td>\n",
              "      <td>2</td>\n",
              "      <td>1</td>\n",
              "      <td>1</td>\n",
              "      <td>1</td>\n",
              "      <td>0</td>\n",
              "      <td>1</td>\n",
              "    </tr>\n",
              "  </tbody>\n",
              "</table>\n",
              "</div>"
            ],
            "text/plain": [
              "   Histology  Grading  FIGO stage  BRCA  ECOG Performance Status  \\\n",
              "0          4      3.0           3     0                      0.0   \n",
              "1          0      3.0           0     6                      0.0   \n",
              "2          4      3.0           4     6                      1.0   \n",
              "3          4      3.0           4     6                      0.0   \n",
              "4          4      3.0           5     6                      0.0   \n",
              "\n",
              "   ca125 (integer)  he4 (integer)  ca 15.3 (integer)  ca 19.9 (integer)  \\\n",
              "0            963.0           22.0                5.0                5.0   \n",
              "1             70.0           95.0               37.0               76.0   \n",
              "2            236.0          996.0                5.0                6.0   \n",
              "3           1228.0           22.0               74.0               13.0   \n",
              "4           2709.0          387.0                5.0                5.0   \n",
              "\n",
              "   cea (integer)  Familiarity with breast/ovarian cancer  \\\n",
              "0            1.0                                       1   \n",
              "1            1.0                                       1   \n",
              "2            1.0                                       2   \n",
              "3            1.6                                       1   \n",
              "4            1.0                                       2   \n",
              "\n",
              "   Type of first intervention  RT  Neoadjuvant therapy  IDS  Relapse  Death  \\\n",
              "0                          19   0                    0    0        0      0   \n",
              "1                          19   0                    0    0        0      0   \n",
              "2                          19   0                    0    0        0      0   \n",
              "3                           8   2                    1    0        1      0   \n",
              "4                          12   2                    1    1        1      0   \n",
              "\n",
              "   Surgical outcome  \n",
              "0                 0  \n",
              "1                 0  \n",
              "2                 0  \n",
              "3                 1  \n",
              "4                 1  "
            ]
          },
          "execution_count": 24,
          "metadata": {},
          "output_type": "execute_result"
        }
      ],
      "source": [
        "df1.head(5)"
      ]
    },
    {
      "cell_type": "code",
      "execution_count": null,
      "id": "e13ccbc5",
      "metadata": {
        "id": "e13ccbc5"
      },
      "outputs": [],
      "source": [
        "dataset = df1.copy()"
      ]
    },
    {
      "cell_type": "code",
      "execution_count": null,
      "id": "3c1aeac3",
      "metadata": {
        "id": "3c1aeac3"
      },
      "outputs": [],
      "source": [
        "from sklearn.preprocessing import StandardScaler\n",
        "scaler = StandardScaler()\n",
        "scaling = scaler.fit_transform(np.array(dataset['ca125 (integer)']).reshape(-1, 1))\n",
        "scaling2 = scaler.fit_transform(np.array(dataset['he4 (integer)']).reshape(-1, 1))\n",
        "scaling3 = scaler.fit_transform(np.array(dataset['ca 15.3 (integer)']).reshape(-1, 1))\n",
        "scaling4 = scaler.fit_transform(np.array(dataset['ca 19.9 (integer)']).reshape(-1, 1))\n"
      ]
    },
    {
      "cell_type": "code",
      "execution_count": null,
      "id": "c3c81cb7",
      "metadata": {
        "id": "c3c81cb7"
      },
      "outputs": [],
      "source": [
        "dataset['ca125 (integer)']=scaling\n",
        "dataset['he4 (integer)']=scaling2\n",
        "dataset['ca 15.3 (integer)']=scaling3\n",
        "dataset['ca 19.9 (integer)']=scaling4"
      ]
    },
    {
      "cell_type": "code",
      "execution_count": null,
      "id": "9a36c754",
      "metadata": {
        "id": "9a36c754",
        "outputId": "c3ff11a2-3c09-472b-dbd5-462c0bbdcff9"
      },
      "outputs": [
        {
          "data": {
            "text/html": [
              "<div>\n",
              "<style scoped>\n",
              "    .dataframe tbody tr th:only-of-type {\n",
              "        vertical-align: middle;\n",
              "    }\n",
              "\n",
              "    .dataframe tbody tr th {\n",
              "        vertical-align: top;\n",
              "    }\n",
              "\n",
              "    .dataframe thead th {\n",
              "        text-align: right;\n",
              "    }\n",
              "</style>\n",
              "<table border=\"1\" class=\"dataframe\">\n",
              "  <thead>\n",
              "    <tr style=\"text-align: right;\">\n",
              "      <th></th>\n",
              "      <th>Histology</th>\n",
              "      <th>Grading</th>\n",
              "      <th>FIGO stage</th>\n",
              "      <th>BRCA</th>\n",
              "      <th>ECOG Performance Status</th>\n",
              "      <th>ca125 (integer)</th>\n",
              "      <th>he4 (integer)</th>\n",
              "      <th>ca 15.3 (integer)</th>\n",
              "      <th>ca 19.9 (integer)</th>\n",
              "      <th>cea (integer)</th>\n",
              "      <th>Familiarity with breast/ovarian cancer</th>\n",
              "      <th>Type of first intervention</th>\n",
              "      <th>RT</th>\n",
              "      <th>Neoadjuvant therapy</th>\n",
              "      <th>IDS</th>\n",
              "      <th>Relapse</th>\n",
              "      <th>Death</th>\n",
              "      <th>Surgical outcome</th>\n",
              "    </tr>\n",
              "  </thead>\n",
              "  <tbody>\n",
              "    <tr>\n",
              "      <th>0</th>\n",
              "      <td>4</td>\n",
              "      <td>3.0</td>\n",
              "      <td>3</td>\n",
              "      <td>0</td>\n",
              "      <td>0.0</td>\n",
              "      <td>-0.124299</td>\n",
              "      <td>-0.340828</td>\n",
              "      <td>-0.432338</td>\n",
              "      <td>-0.169182</td>\n",
              "      <td>1.0</td>\n",
              "      <td>1</td>\n",
              "      <td>19</td>\n",
              "      <td>0</td>\n",
              "      <td>0</td>\n",
              "      <td>0</td>\n",
              "      <td>0</td>\n",
              "      <td>0</td>\n",
              "      <td>0</td>\n",
              "    </tr>\n",
              "    <tr>\n",
              "      <th>1</th>\n",
              "      <td>0</td>\n",
              "      <td>3.0</td>\n",
              "      <td>0</td>\n",
              "      <td>6</td>\n",
              "      <td>0.0</td>\n",
              "      <td>-0.582020</td>\n",
              "      <td>-0.188674</td>\n",
              "      <td>-0.207332</td>\n",
              "      <td>0.071767</td>\n",
              "      <td>1.0</td>\n",
              "      <td>1</td>\n",
              "      <td>19</td>\n",
              "      <td>0</td>\n",
              "      <td>0</td>\n",
              "      <td>0</td>\n",
              "      <td>0</td>\n",
              "      <td>0</td>\n",
              "      <td>0</td>\n",
              "    </tr>\n",
              "    <tr>\n",
              "      <th>2</th>\n",
              "      <td>4</td>\n",
              "      <td>3.0</td>\n",
              "      <td>4</td>\n",
              "      <td>6</td>\n",
              "      <td>1.0</td>\n",
              "      <td>-0.496934</td>\n",
              "      <td>1.689282</td>\n",
              "      <td>-0.432338</td>\n",
              "      <td>-0.165789</td>\n",
              "      <td>1.0</td>\n",
              "      <td>2</td>\n",
              "      <td>19</td>\n",
              "      <td>0</td>\n",
              "      <td>0</td>\n",
              "      <td>0</td>\n",
              "      <td>0</td>\n",
              "      <td>0</td>\n",
              "      <td>0</td>\n",
              "    </tr>\n",
              "    <tr>\n",
              "      <th>3</th>\n",
              "      <td>4</td>\n",
              "      <td>3.0</td>\n",
              "      <td>4</td>\n",
              "      <td>6</td>\n",
              "      <td>0.0</td>\n",
              "      <td>0.011531</td>\n",
              "      <td>-0.340828</td>\n",
              "      <td>0.052831</td>\n",
              "      <td>-0.142033</td>\n",
              "      <td>1.6</td>\n",
              "      <td>1</td>\n",
              "      <td>8</td>\n",
              "      <td>2</td>\n",
              "      <td>1</td>\n",
              "      <td>0</td>\n",
              "      <td>1</td>\n",
              "      <td>0</td>\n",
              "      <td>1</td>\n",
              "    </tr>\n",
              "    <tr>\n",
              "      <th>4</th>\n",
              "      <td>4</td>\n",
              "      <td>3.0</td>\n",
              "      <td>5</td>\n",
              "      <td>6</td>\n",
              "      <td>0.0</td>\n",
              "      <td>0.770640</td>\n",
              "      <td>0.419942</td>\n",
              "      <td>-0.432338</td>\n",
              "      <td>-0.169182</td>\n",
              "      <td>1.0</td>\n",
              "      <td>2</td>\n",
              "      <td>12</td>\n",
              "      <td>2</td>\n",
              "      <td>1</td>\n",
              "      <td>1</td>\n",
              "      <td>1</td>\n",
              "      <td>0</td>\n",
              "      <td>1</td>\n",
              "    </tr>\n",
              "    <tr>\n",
              "      <th>...</th>\n",
              "      <td>...</td>\n",
              "      <td>...</td>\n",
              "      <td>...</td>\n",
              "      <td>...</td>\n",
              "      <td>...</td>\n",
              "      <td>...</td>\n",
              "      <td>...</td>\n",
              "      <td>...</td>\n",
              "      <td>...</td>\n",
              "      <td>...</td>\n",
              "      <td>...</td>\n",
              "      <td>...</td>\n",
              "      <td>...</td>\n",
              "      <td>...</td>\n",
              "      <td>...</td>\n",
              "      <td>...</td>\n",
              "      <td>...</td>\n",
              "      <td>...</td>\n",
              "    </tr>\n",
              "    <tr>\n",
              "      <th>187</th>\n",
              "      <td>4</td>\n",
              "      <td>3.0</td>\n",
              "      <td>4</td>\n",
              "      <td>6</td>\n",
              "      <td>1.0</td>\n",
              "      <td>-0.230400</td>\n",
              "      <td>-0.340828</td>\n",
              "      <td>-0.432338</td>\n",
              "      <td>-0.169182</td>\n",
              "      <td>1.0</td>\n",
              "      <td>2</td>\n",
              "      <td>10</td>\n",
              "      <td>2</td>\n",
              "      <td>1</td>\n",
              "      <td>1</td>\n",
              "      <td>1</td>\n",
              "      <td>0</td>\n",
              "      <td>1</td>\n",
              "    </tr>\n",
              "    <tr>\n",
              "      <th>188</th>\n",
              "      <td>4</td>\n",
              "      <td>3.0</td>\n",
              "      <td>4</td>\n",
              "      <td>1</td>\n",
              "      <td>1.0</td>\n",
              "      <td>-0.534351</td>\n",
              "      <td>-0.340828</td>\n",
              "      <td>-0.214364</td>\n",
              "      <td>-0.152214</td>\n",
              "      <td>1.5</td>\n",
              "      <td>2</td>\n",
              "      <td>8</td>\n",
              "      <td>2</td>\n",
              "      <td>1</td>\n",
              "      <td>1</td>\n",
              "      <td>0</td>\n",
              "      <td>0</td>\n",
              "      <td>1</td>\n",
              "    </tr>\n",
              "    <tr>\n",
              "      <th>189</th>\n",
              "      <td>4</td>\n",
              "      <td>3.0</td>\n",
              "      <td>4</td>\n",
              "      <td>6</td>\n",
              "      <td>1.0</td>\n",
              "      <td>0.020245</td>\n",
              "      <td>2.456305</td>\n",
              "      <td>-0.432338</td>\n",
              "      <td>-0.044975</td>\n",
              "      <td>1.0</td>\n",
              "      <td>2</td>\n",
              "      <td>8</td>\n",
              "      <td>2</td>\n",
              "      <td>1</td>\n",
              "      <td>1</td>\n",
              "      <td>0</td>\n",
              "      <td>0</td>\n",
              "      <td>1</td>\n",
              "    </tr>\n",
              "    <tr>\n",
              "      <th>190</th>\n",
              "      <td>0</td>\n",
              "      <td>3.0</td>\n",
              "      <td>2</td>\n",
              "      <td>6</td>\n",
              "      <td>0.0</td>\n",
              "      <td>1.014826</td>\n",
              "      <td>-0.340828</td>\n",
              "      <td>-0.432338</td>\n",
              "      <td>-0.161716</td>\n",
              "      <td>0.4</td>\n",
              "      <td>2</td>\n",
              "      <td>19</td>\n",
              "      <td>0</td>\n",
              "      <td>0</td>\n",
              "      <td>0</td>\n",
              "      <td>0</td>\n",
              "      <td>0</td>\n",
              "      <td>0</td>\n",
              "    </tr>\n",
              "    <tr>\n",
              "      <th>191</th>\n",
              "      <td>2</td>\n",
              "      <td>1.0</td>\n",
              "      <td>0</td>\n",
              "      <td>6</td>\n",
              "      <td>0.0</td>\n",
              "      <td>-0.609185</td>\n",
              "      <td>-0.340828</td>\n",
              "      <td>-0.432338</td>\n",
              "      <td>-0.165789</td>\n",
              "      <td>0.8</td>\n",
              "      <td>2</td>\n",
              "      <td>19</td>\n",
              "      <td>0</td>\n",
              "      <td>0</td>\n",
              "      <td>0</td>\n",
              "      <td>0</td>\n",
              "      <td>0</td>\n",
              "      <td>0</td>\n",
              "    </tr>\n",
              "  </tbody>\n",
              "</table>\n",
              "<p>192 rows × 18 columns</p>\n",
              "</div>"
            ],
            "text/plain": [
              "     Histology  Grading  FIGO stage  BRCA  ECOG Performance Status  \\\n",
              "0            4      3.0           3     0                      0.0   \n",
              "1            0      3.0           0     6                      0.0   \n",
              "2            4      3.0           4     6                      1.0   \n",
              "3            4      3.0           4     6                      0.0   \n",
              "4            4      3.0           5     6                      0.0   \n",
              "..         ...      ...         ...   ...                      ...   \n",
              "187          4      3.0           4     6                      1.0   \n",
              "188          4      3.0           4     1                      1.0   \n",
              "189          4      3.0           4     6                      1.0   \n",
              "190          0      3.0           2     6                      0.0   \n",
              "191          2      1.0           0     6                      0.0   \n",
              "\n",
              "     ca125 (integer)  he4 (integer)  ca 15.3 (integer)  ca 19.9 (integer)  \\\n",
              "0          -0.124299      -0.340828          -0.432338          -0.169182   \n",
              "1          -0.582020      -0.188674          -0.207332           0.071767   \n",
              "2          -0.496934       1.689282          -0.432338          -0.165789   \n",
              "3           0.011531      -0.340828           0.052831          -0.142033   \n",
              "4           0.770640       0.419942          -0.432338          -0.169182   \n",
              "..               ...            ...                ...                ...   \n",
              "187        -0.230400      -0.340828          -0.432338          -0.169182   \n",
              "188        -0.534351      -0.340828          -0.214364          -0.152214   \n",
              "189         0.020245       2.456305          -0.432338          -0.044975   \n",
              "190         1.014826      -0.340828          -0.432338          -0.161716   \n",
              "191        -0.609185      -0.340828          -0.432338          -0.165789   \n",
              "\n",
              "     cea (integer)  Familiarity with breast/ovarian cancer  \\\n",
              "0              1.0                                       1   \n",
              "1              1.0                                       1   \n",
              "2              1.0                                       2   \n",
              "3              1.6                                       1   \n",
              "4              1.0                                       2   \n",
              "..             ...                                     ...   \n",
              "187            1.0                                       2   \n",
              "188            1.5                                       2   \n",
              "189            1.0                                       2   \n",
              "190            0.4                                       2   \n",
              "191            0.8                                       2   \n",
              "\n",
              "     Type of first intervention  RT  Neoadjuvant therapy  IDS  Relapse  Death  \\\n",
              "0                            19   0                    0    0        0      0   \n",
              "1                            19   0                    0    0        0      0   \n",
              "2                            19   0                    0    0        0      0   \n",
              "3                             8   2                    1    0        1      0   \n",
              "4                            12   2                    1    1        1      0   \n",
              "..                          ...  ..                  ...  ...      ...    ...   \n",
              "187                          10   2                    1    1        1      0   \n",
              "188                           8   2                    1    1        0      0   \n",
              "189                           8   2                    1    1        0      0   \n",
              "190                          19   0                    0    0        0      0   \n",
              "191                          19   0                    0    0        0      0   \n",
              "\n",
              "     Surgical outcome  \n",
              "0                   0  \n",
              "1                   0  \n",
              "2                   0  \n",
              "3                   1  \n",
              "4                   1  \n",
              "..                ...  \n",
              "187                 1  \n",
              "188                 1  \n",
              "189                 1  \n",
              "190                 0  \n",
              "191                 0  \n",
              "\n",
              "[192 rows x 18 columns]"
            ]
          },
          "execution_count": 28,
          "metadata": {},
          "output_type": "execute_result"
        }
      ],
      "source": [
        "dataset"
      ]
    },
    {
      "cell_type": "code",
      "execution_count": null,
      "id": "51bd9a67",
      "metadata": {
        "id": "51bd9a67",
        "outputId": "a633a555-4a96-439b-ea13-4e876607d2e8"
      },
      "outputs": [
        {
          "name": "stdout",
          "output_type": "stream",
          "text": [
            "Counter({0: 129, 1: 63})\n",
            "Counter({0: 129, 1: 129})\n"
          ]
        }
      ],
      "source": [
        "#Determining the X and y\n",
        "X = dataset.drop('Surgical outcome', axis=1)\n",
        "y = dataset['Surgical outcome']\n",
        "\n",
        "from collections import Counter\n",
        "from imblearn.combine import SMOTETomek\n",
        "\n",
        "#Implementing the SMOTE technique\n",
        "smk = SMOTETomek(random_state=42)\n",
        "\n",
        "X_smk, y_smk = smk.fit_resample(X, y)\n",
        "\n",
        "# summarizing class distribution\n",
        "print(Counter(y))\n",
        "print(Counter(y_smk))"
      ]
    },
    {
      "cell_type": "code",
      "execution_count": null,
      "id": "02e9e409",
      "metadata": {
        "id": "02e9e409"
      },
      "outputs": [],
      "source": [
        "# Making a train set for SMOTE\n",
        "df_smote = X_smk\n",
        "df_smote['Surgical outcome']=y_smk\n",
        "\n",
        "#Reset the index\n",
        "df_smote['index']=[i for i in range(len(df_smote))]\n",
        "df_smote = df_smote.set_index('index')\n",
        "\n",
        "X_smk = X_smk.drop(['index','Surgical outcome'],axis=1)"
      ]
    },
    {
      "cell_type": "code",
      "execution_count": null,
      "id": "3cbb8ee1",
      "metadata": {
        "id": "3cbb8ee1",
        "outputId": "18194261-b51f-4572-ac36-b03bb0cd4ddb"
      },
      "outputs": [
        {
          "name": "stderr",
          "output_type": "stream",
          "text": [
            "/home/moneeb/.local/lib/python3.8/site-packages/seaborn/_decorators.py:36: FutureWarning: Pass the following variable as a keyword arg: x. From version 0.12, the only valid positional argument will be `data`, and passing other arguments without an explicit keyword will result in an error or misinterpretation.\n",
            "  warnings.warn(\n"
          ]
        },
        {
          "data": {
            "text/plain": [
              "Text(0.5, 1.0, 'Class Distribution')"
            ]
          },
          "execution_count": 31,
          "metadata": {},
          "output_type": "execute_result"
        },
        {
          "data": {
            "image/png": "[encoded data removed]",
            "text/plain": [
              "<Figure size 432x288 with 1 Axes>"
            ]
          },
          "metadata": {
            "needs_background": "light"
          },
          "output_type": "display_data"
        }
      ],
      "source": [
        "\n",
        "sns.countplot(df_smote['Surgical outcome'])\n",
        "plt.title('Class Distribution')"
      ]
    },
    {
      "cell_type": "code",
      "execution_count": null,
      "id": "25d54e1f",
      "metadata": {
        "id": "25d54e1f"
      },
      "outputs": [],
      "source": []
    },
    {
      "cell_type": "code",
      "execution_count": null,
      "id": "07397dfa",
      "metadata": {
        "id": "07397dfa"
      },
      "outputs": [],
      "source": [
        "new_df = df_smote.copy()"
      ]
    },
    {
      "cell_type": "code",
      "execution_count": null,
      "id": "b2912fa8",
      "metadata": {
        "id": "b2912fa8",
        "outputId": "47a4c3e7-3e08-45a0-b6f9-46a2a3a567f7"
      },
      "outputs": [
        {
          "data": {
            "text/html": [
              "<div>\n",
              "<style scoped>\n",
              "    .dataframe tbody tr th:only-of-type {\n",
              "        vertical-align: middle;\n",
              "    }\n",
              "\n",
              "    .dataframe tbody tr th {\n",
              "        vertical-align: top;\n",
              "    }\n",
              "\n",
              "    .dataframe thead th {\n",
              "        text-align: right;\n",
              "    }\n",
              "</style>\n",
              "<table border=\"1\" class=\"dataframe\">\n",
              "  <thead>\n",
              "    <tr style=\"text-align: right;\">\n",
              "      <th></th>\n",
              "      <th>Histology</th>\n",
              "      <th>Grading</th>\n",
              "      <th>FIGO stage</th>\n",
              "      <th>BRCA</th>\n",
              "      <th>ECOG Performance Status</th>\n",
              "      <th>ca125 (integer)</th>\n",
              "      <th>he4 (integer)</th>\n",
              "      <th>ca 15.3 (integer)</th>\n",
              "      <th>ca 19.9 (integer)</th>\n",
              "      <th>cea (integer)</th>\n",
              "      <th>Familiarity with breast/ovarian cancer</th>\n",
              "      <th>Type of first intervention</th>\n",
              "      <th>RT</th>\n",
              "      <th>Neoadjuvant therapy</th>\n",
              "      <th>IDS</th>\n",
              "      <th>Relapse</th>\n",
              "      <th>Death</th>\n",
              "      <th>Surgical outcome</th>\n",
              "    </tr>\n",
              "    <tr>\n",
              "      <th>index</th>\n",
              "      <th></th>\n",
              "      <th></th>\n",
              "      <th></th>\n",
              "      <th></th>\n",
              "      <th></th>\n",
              "      <th></th>\n",
              "      <th></th>\n",
              "      <th></th>\n",
              "      <th></th>\n",
              "      <th></th>\n",
              "      <th></th>\n",
              "      <th></th>\n",
              "      <th></th>\n",
              "      <th></th>\n",
              "      <th></th>\n",
              "      <th></th>\n",
              "      <th></th>\n",
              "      <th></th>\n",
              "    </tr>\n",
              "  </thead>\n",
              "  <tbody>\n",
              "    <tr>\n",
              "      <th>0</th>\n",
              "      <td>4</td>\n",
              "      <td>3.0</td>\n",
              "      <td>3</td>\n",
              "      <td>0</td>\n",
              "      <td>0.0</td>\n",
              "      <td>-0.124299</td>\n",
              "      <td>-0.340828</td>\n",
              "      <td>-0.432338</td>\n",
              "      <td>-0.169182</td>\n",
              "      <td>1.0</td>\n",
              "      <td>1</td>\n",
              "      <td>19</td>\n",
              "      <td>0</td>\n",
              "      <td>0</td>\n",
              "      <td>0</td>\n",
              "      <td>0</td>\n",
              "      <td>0</td>\n",
              "      <td>0</td>\n",
              "    </tr>\n",
              "    <tr>\n",
              "      <th>1</th>\n",
              "      <td>0</td>\n",
              "      <td>3.0</td>\n",
              "      <td>0</td>\n",
              "      <td>6</td>\n",
              "      <td>0.0</td>\n",
              "      <td>-0.582020</td>\n",
              "      <td>-0.188674</td>\n",
              "      <td>-0.207332</td>\n",
              "      <td>0.071767</td>\n",
              "      <td>1.0</td>\n",
              "      <td>1</td>\n",
              "      <td>19</td>\n",
              "      <td>0</td>\n",
              "      <td>0</td>\n",
              "      <td>0</td>\n",
              "      <td>0</td>\n",
              "      <td>0</td>\n",
              "      <td>0</td>\n",
              "    </tr>\n",
              "    <tr>\n",
              "      <th>2</th>\n",
              "      <td>4</td>\n",
              "      <td>3.0</td>\n",
              "      <td>4</td>\n",
              "      <td>6</td>\n",
              "      <td>1.0</td>\n",
              "      <td>-0.496934</td>\n",
              "      <td>1.689282</td>\n",
              "      <td>-0.432338</td>\n",
              "      <td>-0.165789</td>\n",
              "      <td>1.0</td>\n",
              "      <td>2</td>\n",
              "      <td>19</td>\n",
              "      <td>0</td>\n",
              "      <td>0</td>\n",
              "      <td>0</td>\n",
              "      <td>0</td>\n",
              "      <td>0</td>\n",
              "      <td>0</td>\n",
              "    </tr>\n",
              "    <tr>\n",
              "      <th>3</th>\n",
              "      <td>4</td>\n",
              "      <td>3.0</td>\n",
              "      <td>4</td>\n",
              "      <td>6</td>\n",
              "      <td>0.0</td>\n",
              "      <td>0.011531</td>\n",
              "      <td>-0.340828</td>\n",
              "      <td>0.052831</td>\n",
              "      <td>-0.142033</td>\n",
              "      <td>1.6</td>\n",
              "      <td>1</td>\n",
              "      <td>8</td>\n",
              "      <td>2</td>\n",
              "      <td>1</td>\n",
              "      <td>0</td>\n",
              "      <td>1</td>\n",
              "      <td>0</td>\n",
              "      <td>1</td>\n",
              "    </tr>\n",
              "    <tr>\n",
              "      <th>4</th>\n",
              "      <td>4</td>\n",
              "      <td>3.0</td>\n",
              "      <td>5</td>\n",
              "      <td>6</td>\n",
              "      <td>0.0</td>\n",
              "      <td>0.770640</td>\n",
              "      <td>0.419942</td>\n",
              "      <td>-0.432338</td>\n",
              "      <td>-0.169182</td>\n",
              "      <td>1.0</td>\n",
              "      <td>2</td>\n",
              "      <td>12</td>\n",
              "      <td>2</td>\n",
              "      <td>1</td>\n",
              "      <td>1</td>\n",
              "      <td>1</td>\n",
              "      <td>0</td>\n",
              "      <td>1</td>\n",
              "    </tr>\n",
              "  </tbody>\n",
              "</table>\n",
              "</div>"
            ],
            "text/plain": [
              "       Histology  Grading  FIGO stage  BRCA  ECOG Performance Status  \\\n",
              "index                                                                  \n",
              "0              4      3.0           3     0                      0.0   \n",
              "1              0      3.0           0     6                      0.0   \n",
              "2              4      3.0           4     6                      1.0   \n",
              "3              4      3.0           4     6                      0.0   \n",
              "4              4      3.0           5     6                      0.0   \n",
              "\n",
              "       ca125 (integer)  he4 (integer)  ca 15.3 (integer)  ca 19.9 (integer)  \\\n",
              "index                                                                         \n",
              "0            -0.124299      -0.340828          -0.432338          -0.169182   \n",
              "1            -0.582020      -0.188674          -0.207332           0.071767   \n",
              "2            -0.496934       1.689282          -0.432338          -0.165789   \n",
              "3             0.011531      -0.340828           0.052831          -0.142033   \n",
              "4             0.770640       0.419942          -0.432338          -0.169182   \n",
              "\n",
              "       cea (integer)  Familiarity with breast/ovarian cancer  \\\n",
              "index                                                          \n",
              "0                1.0                                       1   \n",
              "1                1.0                                       1   \n",
              "2                1.0                                       2   \n",
              "3                1.6                                       1   \n",
              "4                1.0                                       2   \n",
              "\n",
              "       Type of first intervention  RT  Neoadjuvant therapy  IDS  Relapse  \\\n",
              "index                                                                      \n",
              "0                              19   0                    0    0        0   \n",
              "1                              19   0                    0    0        0   \n",
              "2                              19   0                    0    0        0   \n",
              "3                               8   2                    1    0        1   \n",
              "4                              12   2                    1    1        1   \n",
              "\n",
              "       Death  Surgical outcome  \n",
              "index                           \n",
              "0          0                 0  \n",
              "1          0                 0  \n",
              "2          0                 0  \n",
              "3          0                 1  \n",
              "4          0                 1  "
            ]
          },
          "execution_count": 33,
          "metadata": {},
          "output_type": "execute_result"
        }
      ],
      "source": [
        "new_df.head()"
      ]
    },
    {
      "cell_type": "code",
      "execution_count": null,
      "id": "b0998ecc",
      "metadata": {
        "id": "b0998ecc",
        "outputId": "f2dea5cb-bf52-4502-cd4d-6ff06b76c836"
      },
      "outputs": [
        {
          "data": {
            "text/plain": [
              "(258, 18)"
            ]
          },
          "execution_count": 34,
          "metadata": {},
          "output_type": "execute_result"
        }
      ],
      "source": [
        "new_df.shape"
      ]
    },
    {
      "cell_type": "code",
      "execution_count": null,
      "id": "ffea0ab8",
      "metadata": {
        "id": "ffea0ab8",
        "outputId": "bd88d08c-87dd-4572-e229-943eb4c9b8b5"
      },
      "outputs": [
        {
          "name": "stderr",
          "output_type": "stream",
          "text": [
            "/home/moneeb/.local/lib/python3.8/site-packages/seaborn/_decorators.py:36: FutureWarning: Pass the following variable as a keyword arg: x. From version 0.12, the only valid positional argument will be `data`, and passing other arguments without an explicit keyword will result in an error or misinterpretation.\n",
            "  warnings.warn(\n"
          ]
        },
        {
          "data": {
            "text/plain": [
              "<AxesSubplot:xlabel='ca125 (integer)', ylabel='count'>"
            ]
          },
          "execution_count": 72,
          "metadata": {},
          "output_type": "execute_result"
        },
        {
          "data": {
            "image/png": "[encoded data removed]",
            "text/plain": [
              "<Figure size 432x288 with 1 Axes>"
            ]
          },
          "metadata": {
            "needs_background": "light"
          },
          "output_type": "display_data"
        }
      ],
      "source": [
        "sns.countplot(new_df['ca125 (integer)'],hue = new_df['Surgical outcome'])"
      ]
    },
    {
      "cell_type": "code",
      "execution_count": null,
      "id": "2899bfb1",
      "metadata": {
        "id": "2899bfb1",
        "outputId": "10733b45-b52b-4100-f1b6-42ab0955ecac"
      },
      "outputs": [
        {
          "data": {
            "image/png": "[encoded data removed]",
            "text/plain": [
              "<Figure size 1152x864 with 2 Axes>"
            ]
          },
          "metadata": {
            "needs_background": "light"
          },
          "output_type": "display_data"
        }
      ],
      "source": [
        "corr_matrix = new_df.corr()\n",
        "f, ax = plt.subplots(figsize=(16, 12))\n",
        "sns.heatmap(corr_matrix, annot=True)\n",
        "plt.show()"
      ]
    },
    {
      "cell_type": "code",
      "execution_count": null,
      "id": "676ccce7",
      "metadata": {
        "id": "676ccce7"
      },
      "outputs": [],
      "source": [
        "from sklearn.model_selection import train_test_split\n",
        "\n",
        "y = new_df['Surgical outcome']\n",
        "X = new_df.drop(['Surgical outcome'], axis=1)\n",
        "\n",
        "X_train, X_test, y_train, y_test = train_test_split(X, y, test_size=0.3, random_state = 42)"
      ]
    },
    {
      "cell_type": "code",
      "execution_count": null,
      "id": "5a1d2319",
      "metadata": {
        "id": "5a1d2319",
        "outputId": "1a211ad2-5d8d-4e18-d50d-65e1506c5b4c"
      },
      "outputs": [
        {
          "data": {
            "text/plain": [
              "((180, 17), (78, 17))"
            ]
          },
          "execution_count": 54,
          "metadata": {},
          "output_type": "execute_result"
        }
      ],
      "source": [
        "X_train.shape, X_test.shape"
      ]
    },
    {
      "cell_type": "code",
      "execution_count": null,
      "id": "7bc98051",
      "metadata": {
        "id": "7bc98051"
      },
      "outputs": [],
      "source": [
        "model = LogisticRegression()"
      ]
    },
    {
      "cell_type": "code",
      "execution_count": null,
      "id": "f6515278",
      "metadata": {
        "scrolled": false,
        "id": "f6515278",
        "outputId": "0a9e475b-512d-42c3-8ffa-bcc42e22a81f"
      },
      "outputs": [
        {
          "data": {
            "text/html": [
              "<style>#sk-container-id-4 {color: black;background-color: white;}#sk-container-id-4 pre{padding: 0;}#sk-container-id-4 div.sk-toggleable {background-color: white;}#sk-container-id-4 label.sk-toggleable__label {cursor: pointer;display: block;width: 100%;margin-bottom: 0;padding: 0.3em;box-sizing: border-box;text-align: center;}#sk-container-id-4 label.sk-toggleable__label-arrow:before {content: \"▸\";float: left;margin-right: 0.25em;color: #696969;}#sk-container-id-4 label.sk-toggleable__label-arrow:hover:before {color: black;}#sk-container-id-4 div.sk-estimator:hover label.sk-toggleable__label-arrow:before {color: black;}#sk-container-id-4 div.sk-toggleable__content {max-height: 0;max-width: 0;overflow: hidden;text-align: left;background-color: #f0f8ff;}#sk-container-id-4 div.sk-toggleable__content pre {margin: 0.2em;color: black;border-radius: 0.25em;background-color: #f0f8ff;}#sk-container-id-4 input.sk-toggleable__control:checked~div.sk-toggleable__content {max-height: 200px;max-width: 100%;overflow: auto;}#sk-container-id-4 input.sk-toggleable__control:checked~label.sk-toggleable__label-arrow:before {content: \"▾\";}#sk-container-id-4 div.sk-estimator input.sk-toggleable__control:checked~label.sk-toggleable__label {background-color: #d4ebff;}#sk-container-id-4 div.sk-label input.sk-toggleable__control:checked~label.sk-toggleable__label {background-color: #d4ebff;}#sk-container-id-4 input.sk-hidden--visually {border: 0;clip: rect(1px 1px 1px 1px);clip: rect(1px, 1px, 1px, 1px);height: 1px;margin: -1px;overflow: hidden;padding: 0;position: absolute;width: 1px;}#sk-container-id-4 div.sk-estimator {font-family: monospace;background-color: #f0f8ff;border: 1px dotted black;border-radius: 0.25em;box-sizing: border-box;margin-bottom: 0.5em;}#sk-container-id-4 div.sk-estimator:hover {background-color: #d4ebff;}#sk-container-id-4 div.sk-parallel-item::after {content: \"\";width: 100%;border-bottom: 1px solid gray;flex-grow: 1;}#sk-container-id-4 div.sk-label:hover label.sk-toggleable__label {background-color: #d4ebff;}#sk-container-id-4 div.sk-serial::before {content: \"\";position: absolute;border-left: 1px solid gray;box-sizing: border-box;top: 0;bottom: 0;left: 50%;z-index: 0;}#sk-container-id-4 div.sk-serial {display: flex;flex-direction: column;align-items: center;background-color: white;padding-right: 0.2em;padding-left: 0.2em;position: relative;}#sk-container-id-4 div.sk-item {position: relative;z-index: 1;}#sk-container-id-4 div.sk-parallel {display: flex;align-items: stretch;justify-content: center;background-color: white;position: relative;}#sk-container-id-4 div.sk-item::before, #sk-container-id-4 div.sk-parallel-item::before {content: \"\";position: absolute;border-left: 1px solid gray;box-sizing: border-box;top: 0;bottom: 0;left: 50%;z-index: -1;}#sk-container-id-4 div.sk-parallel-item {display: flex;flex-direction: column;z-index: 1;position: relative;background-color: white;}#sk-container-id-4 div.sk-parallel-item:first-child::after {align-self: flex-end;width: 50%;}#sk-container-id-4 div.sk-parallel-item:last-child::after {align-self: flex-start;width: 50%;}#sk-container-id-4 div.sk-parallel-item:only-child::after {width: 0;}#sk-container-id-4 div.sk-dashed-wrapped {border: 1px dashed gray;margin: 0 0.4em 0.5em 0.4em;box-sizing: border-box;padding-bottom: 0.4em;background-color: white;}#sk-container-id-4 div.sk-label label {font-family: monospace;font-weight: bold;display: inline-block;line-height: 1.2em;}#sk-container-id-4 div.sk-label-container {text-align: center;}#sk-container-id-4 div.sk-container {/* jupyter's `normalize.less` sets `[hidden] { display: none; }` but bootstrap.min.css set `[hidden] { display: none !important; }` so we also need the `!important` here to be able to override the default hidden behavior on the sphinx rendered scikit-learn.org. See: https://github.com/scikit-learn/scikit-learn/issues/21755 */display: inline-block !important;position: relative;}#sk-container-id-4 div.sk-text-repr-fallback {display: none;}</style><div id=\"sk-container-id-4\" class=\"sk-top-container\"><div class=\"sk-text-repr-fallback\"><pre>LogisticRegression()</pre><b>In a Jupyter environment, please rerun this cell to show the HTML representation or trust the notebook. <br />On GitHub, the HTML representation is unable to render, please try loading this page with nbviewer.org.</b></div><div class=\"sk-container\" hidden><div class=\"sk-item\"><div class=\"sk-estimator sk-toggleable\"><input class=\"sk-toggleable__control sk-hidden--visually\" id=\"sk-estimator-id-6\" type=\"checkbox\" checked><label for=\"sk-estimator-id-6\" class=\"sk-toggleable__label sk-toggleable__label-arrow\">LogisticRegression</label><div class=\"sk-toggleable__content\"><pre>LogisticRegression()</pre></div></div></div></div></div>"
            ],
            "text/plain": [
              "LogisticRegression()"
            ]
          },
          "execution_count": 56,
          "metadata": {},
          "output_type": "execute_result"
        }
      ],
      "source": [
        "model.fit(X_test, y_test)"
      ]
    },
    {
      "cell_type": "code",
      "execution_count": null,
      "id": "d0379d2e",
      "metadata": {
        "id": "d0379d2e",
        "outputId": "4b152aa2-a6d7-495f-aa22-da953cf48e8b"
      },
      "outputs": [
        {
          "data": {
            "text/plain": [
              "1.0"
            ]
          },
          "execution_count": 57,
          "metadata": {},
          "output_type": "execute_result"
        }
      ],
      "source": [
        "model.score(X_test,y_test)"
      ]
    },
    {
      "cell_type": "code",
      "execution_count": null,
      "id": "ff5210a0",
      "metadata": {
        "id": "ff5210a0"
      },
      "outputs": [],
      "source": [
        "prediction = model.predict(X_test)"
      ]
    },
    {
      "cell_type": "code",
      "execution_count": null,
      "id": "2c445056",
      "metadata": {
        "id": "2c445056",
        "outputId": "0b932f4b-1547-4a67-d0f7-54cc9a7f3a43"
      },
      "outputs": [
        {
          "name": "stdout",
          "output_type": "stream",
          "text": [
            "*Confusion Matrix : \n",
            "[[42  0]\n",
            " [ 0 36]]\n",
            "*Classification Report: \n",
            "              precision    recall  f1-score   support\n",
            "\n",
            "           0       1.00      1.00      1.00        42\n",
            "           1       1.00      1.00      1.00        36\n",
            "\n",
            "    accuracy                           1.00        78\n",
            "   macro avg       1.00      1.00      1.00        78\n",
            "weighted avg       1.00      1.00      1.00        78\n",
            "\n"
          ]
        }
      ],
      "source": [
        "print(\"*Confusion Matrix : \")\n",
        "print(confusion_matrix(y_test, prediction))\n",
        "print(\"*Classification Report: \")\n",
        "print(classification_report(y_test, prediction))"
      ]
    },
    {
      "cell_type": "code",
      "execution_count": null,
      "id": "967f02a5",
      "metadata": {
        "id": "967f02a5"
      },
      "outputs": [],
      "source": [
        "rf_model = RandomForestClassifier(n_estimators=100)"
      ]
    },
    {
      "cell_type": "code",
      "execution_count": null,
      "id": "f40e8fcb",
      "metadata": {
        "id": "f40e8fcb",
        "outputId": "f5ea8eab-4857-4b11-c4d8-d5851da221a0"
      },
      "outputs": [
        {
          "data": {
            "text/html": [
              "<style>#sk-container-id-5 {color: black;background-color: white;}#sk-container-id-5 pre{padding: 0;}#sk-container-id-5 div.sk-toggleable {background-color: white;}#sk-container-id-5 label.sk-toggleable__label {cursor: pointer;display: block;width: 100%;margin-bottom: 0;padding: 0.3em;box-sizing: border-box;text-align: center;}#sk-container-id-5 label.sk-toggleable__label-arrow:before {content: \"▸\";float: left;margin-right: 0.25em;color: #696969;}#sk-container-id-5 label.sk-toggleable__label-arrow:hover:before {color: black;}#sk-container-id-5 div.sk-estimator:hover label.sk-toggleable__label-arrow:before {color: black;}#sk-container-id-5 div.sk-toggleable__content {max-height: 0;max-width: 0;overflow: hidden;text-align: left;background-color: #f0f8ff;}#sk-container-id-5 div.sk-toggleable__content pre {margin: 0.2em;color: black;border-radius: 0.25em;background-color: #f0f8ff;}#sk-container-id-5 input.sk-toggleable__control:checked~div.sk-toggleable__content {max-height: 200px;max-width: 100%;overflow: auto;}#sk-container-id-5 input.sk-toggleable__control:checked~label.sk-toggleable__label-arrow:before {content: \"▾\";}#sk-container-id-5 div.sk-estimator input.sk-toggleable__control:checked~label.sk-toggleable__label {background-color: #d4ebff;}#sk-container-id-5 div.sk-label input.sk-toggleable__control:checked~label.sk-toggleable__label {background-color: #d4ebff;}#sk-container-id-5 input.sk-hidden--visually {border: 0;clip: rect(1px 1px 1px 1px);clip: rect(1px, 1px, 1px, 1px);height: 1px;margin: -1px;overflow: hidden;padding: 0;position: absolute;width: 1px;}#sk-container-id-5 div.sk-estimator {font-family: monospace;background-color: #f0f8ff;border: 1px dotted black;border-radius: 0.25em;box-sizing: border-box;margin-bottom: 0.5em;}#sk-container-id-5 div.sk-estimator:hover {background-color: #d4ebff;}#sk-container-id-5 div.sk-parallel-item::after {content: \"\";width: 100%;border-bottom: 1px solid gray;flex-grow: 1;}#sk-container-id-5 div.sk-label:hover label.sk-toggleable__label {background-color: #d4ebff;}#sk-container-id-5 div.sk-serial::before {content: \"\";position: absolute;border-left: 1px solid gray;box-sizing: border-box;top: 0;bottom: 0;left: 50%;z-index: 0;}#sk-container-id-5 div.sk-serial {display: flex;flex-direction: column;align-items: center;background-color: white;padding-right: 0.2em;padding-left: 0.2em;position: relative;}#sk-container-id-5 div.sk-item {position: relative;z-index: 1;}#sk-container-id-5 div.sk-parallel {display: flex;align-items: stretch;justify-content: center;background-color: white;position: relative;}#sk-container-id-5 div.sk-item::before, #sk-container-id-5 div.sk-parallel-item::before {content: \"\";position: absolute;border-left: 1px solid gray;box-sizing: border-box;top: 0;bottom: 0;left: 50%;z-index: -1;}#sk-container-id-5 div.sk-parallel-item {display: flex;flex-direction: column;z-index: 1;position: relative;background-color: white;}#sk-container-id-5 div.sk-parallel-item:first-child::after {align-self: flex-end;width: 50%;}#sk-container-id-5 div.sk-parallel-item:last-child::after {align-self: flex-start;width: 50%;}#sk-container-id-5 div.sk-parallel-item:only-child::after {width: 0;}#sk-container-id-5 div.sk-dashed-wrapped {border: 1px dashed gray;margin: 0 0.4em 0.5em 0.4em;box-sizing: border-box;padding-bottom: 0.4em;background-color: white;}#sk-container-id-5 div.sk-label label {font-family: monospace;font-weight: bold;display: inline-block;line-height: 1.2em;}#sk-container-id-5 div.sk-label-container {text-align: center;}#sk-container-id-5 div.sk-container {/* jupyter's `normalize.less` sets `[hidden] { display: none; }` but bootstrap.min.css set `[hidden] { display: none !important; }` so we also need the `!important` here to be able to override the default hidden behavior on the sphinx rendered scikit-learn.org. See: https://github.com/scikit-learn/scikit-learn/issues/21755 */display: inline-block !important;position: relative;}#sk-container-id-5 div.sk-text-repr-fallback {display: none;}</style><div id=\"sk-container-id-5\" class=\"sk-top-container\"><div class=\"sk-text-repr-fallback\"><pre>RandomForestClassifier()</pre><b>In a Jupyter environment, please rerun this cell to show the HTML representation or trust the notebook. <br />On GitHub, the HTML representation is unable to render, please try loading this page with nbviewer.org.</b></div><div class=\"sk-container\" hidden><div class=\"sk-item\"><div class=\"sk-estimator sk-toggleable\"><input class=\"sk-toggleable__control sk-hidden--visually\" id=\"sk-estimator-id-7\" type=\"checkbox\" checked><label for=\"sk-estimator-id-7\" class=\"sk-toggleable__label sk-toggleable__label-arrow\">RandomForestClassifier</label><div class=\"sk-toggleable__content\"><pre>RandomForestClassifier()</pre></div></div></div></div></div>"
            ],
            "text/plain": [
              "RandomForestClassifier()"
            ]
          },
          "execution_count": 61,
          "metadata": {},
          "output_type": "execute_result"
        }
      ],
      "source": [
        "rf_model.fit(X_test, y_test)"
      ]
    },
    {
      "cell_type": "code",
      "execution_count": null,
      "id": "4d038c68",
      "metadata": {
        "id": "4d038c68",
        "outputId": "950e7d04-2dd5-4caa-bb6a-1cffc1417822"
      },
      "outputs": [
        {
          "data": {
            "text/plain": [
              "1.0"
            ]
          },
          "execution_count": 62,
          "metadata": {},
          "output_type": "execute_result"
        }
      ],
      "source": [
        "rf_model.score(X_test,y_test)"
      ]
    },
    {
      "cell_type": "code",
      "execution_count": null,
      "id": "49f28389",
      "metadata": {
        "id": "49f28389"
      },
      "outputs": [],
      "source": [
        "prediction = model.predict(X_test)"
      ]
    },
    {
      "cell_type": "code",
      "execution_count": null,
      "id": "1c55a4e5",
      "metadata": {
        "id": "1c55a4e5",
        "outputId": "72b461b5-5b51-4936-c908-b5b47d17b9d1"
      },
      "outputs": [
        {
          "name": "stdout",
          "output_type": "stream",
          "text": [
            "*Confusion Matrix : \n",
            "[[42  0]\n",
            " [ 0 36]]\n",
            "*Classification Report: \n",
            "              precision    recall  f1-score   support\n",
            "\n",
            "           0       1.00      1.00      1.00        42\n",
            "           1       1.00      1.00      1.00        36\n",
            "\n",
            "    accuracy                           1.00        78\n",
            "   macro avg       1.00      1.00      1.00        78\n",
            "weighted avg       1.00      1.00      1.00        78\n",
            "\n"
          ]
        }
      ],
      "source": [
        "print(\"*Confusion Matrix : \")\n",
        "print(confusion_matrix(y_test, prediction))\n",
        "print(\"*Classification Report: \")\n",
        "print(classification_report(y_test, prediction))"
      ]
    },
    {
      "cell_type": "code",
      "execution_count": null,
      "id": "1a2216b7",
      "metadata": {
        "id": "1a2216b7"
      },
      "outputs": [],
      "source": [
        "ada_model = AdaBoostClassifier(DecisionTreeClassifier(max_depth=8),random_state=42)"
      ]
    },
    {
      "cell_type": "code",
      "execution_count": null,
      "id": "e66bdddf",
      "metadata": {
        "id": "e66bdddf",
        "outputId": "4afdc01f-c435-483d-a0b3-eac88e7d81b6"
      },
      "outputs": [
        {
          "data": {
            "text/html": [
              "<style>#sk-container-id-6 {color: black;background-color: white;}#sk-container-id-6 pre{padding: 0;}#sk-container-id-6 div.sk-toggleable {background-color: white;}#sk-container-id-6 label.sk-toggleable__label {cursor: pointer;display: block;width: 100%;margin-bottom: 0;padding: 0.3em;box-sizing: border-box;text-align: center;}#sk-container-id-6 label.sk-toggleable__label-arrow:before {content: \"▸\";float: left;margin-right: 0.25em;color: #696969;}#sk-container-id-6 label.sk-toggleable__label-arrow:hover:before {color: black;}#sk-container-id-6 div.sk-estimator:hover label.sk-toggleable__label-arrow:before {color: black;}#sk-container-id-6 div.sk-toggleable__content {max-height: 0;max-width: 0;overflow: hidden;text-align: left;background-color: #f0f8ff;}#sk-container-id-6 div.sk-toggleable__content pre {margin: 0.2em;color: black;border-radius: 0.25em;background-color: #f0f8ff;}#sk-container-id-6 input.sk-toggleable__control:checked~div.sk-toggleable__content {max-height: 200px;max-width: 100%;overflow: auto;}#sk-container-id-6 input.sk-toggleable__control:checked~label.sk-toggleable__label-arrow:before {content: \"▾\";}#sk-container-id-6 div.sk-estimator input.sk-toggleable__control:checked~label.sk-toggleable__label {background-color: #d4ebff;}#sk-container-id-6 div.sk-label input.sk-toggleable__control:checked~label.sk-toggleable__label {background-color: #d4ebff;}#sk-container-id-6 input.sk-hidden--visually {border: 0;clip: rect(1px 1px 1px 1px);clip: rect(1px, 1px, 1px, 1px);height: 1px;margin: -1px;overflow: hidden;padding: 0;position: absolute;width: 1px;}#sk-container-id-6 div.sk-estimator {font-family: monospace;background-color: #f0f8ff;border: 1px dotted black;border-radius: 0.25em;box-sizing: border-box;margin-bottom: 0.5em;}#sk-container-id-6 div.sk-estimator:hover {background-color: #d4ebff;}#sk-container-id-6 div.sk-parallel-item::after {content: \"\";width: 100%;border-bottom: 1px solid gray;flex-grow: 1;}#sk-container-id-6 div.sk-label:hover label.sk-toggleable__label {background-color: #d4ebff;}#sk-container-id-6 div.sk-serial::before {content: \"\";position: absolute;border-left: 1px solid gray;box-sizing: border-box;top: 0;bottom: 0;left: 50%;z-index: 0;}#sk-container-id-6 div.sk-serial {display: flex;flex-direction: column;align-items: center;background-color: white;padding-right: 0.2em;padding-left: 0.2em;position: relative;}#sk-container-id-6 div.sk-item {position: relative;z-index: 1;}#sk-container-id-6 div.sk-parallel {display: flex;align-items: stretch;justify-content: center;background-color: white;position: relative;}#sk-container-id-6 div.sk-item::before, #sk-container-id-6 div.sk-parallel-item::before {content: \"\";position: absolute;border-left: 1px solid gray;box-sizing: border-box;top: 0;bottom: 0;left: 50%;z-index: -1;}#sk-container-id-6 div.sk-parallel-item {display: flex;flex-direction: column;z-index: 1;position: relative;background-color: white;}#sk-container-id-6 div.sk-parallel-item:first-child::after {align-self: flex-end;width: 50%;}#sk-container-id-6 div.sk-parallel-item:last-child::after {align-self: flex-start;width: 50%;}#sk-container-id-6 div.sk-parallel-item:only-child::after {width: 0;}#sk-container-id-6 div.sk-dashed-wrapped {border: 1px dashed gray;margin: 0 0.4em 0.5em 0.4em;box-sizing: border-box;padding-bottom: 0.4em;background-color: white;}#sk-container-id-6 div.sk-label label {font-family: monospace;font-weight: bold;display: inline-block;line-height: 1.2em;}#sk-container-id-6 div.sk-label-container {text-align: center;}#sk-container-id-6 div.sk-container {/* jupyter's `normalize.less` sets `[hidden] { display: none; }` but bootstrap.min.css set `[hidden] { display: none !important; }` so we also need the `!important` here to be able to override the default hidden behavior on the sphinx rendered scikit-learn.org. See: https://github.com/scikit-learn/scikit-learn/issues/21755 */display: inline-block !important;position: relative;}#sk-container-id-6 div.sk-text-repr-fallback {display: none;}</style><div id=\"sk-container-id-6\" class=\"sk-top-container\"><div class=\"sk-text-repr-fallback\"><pre>AdaBoostClassifier(base_estimator=DecisionTreeClassifier(max_depth=8),\n",
              "                   random_state=42)</pre><b>In a Jupyter environment, please rerun this cell to show the HTML representation or trust the notebook. <br />On GitHub, the HTML representation is unable to render, please try loading this page with nbviewer.org.</b></div><div class=\"sk-container\" hidden><div class=\"sk-item sk-dashed-wrapped\"><div class=\"sk-label-container\"><div class=\"sk-label sk-toggleable\"><input class=\"sk-toggleable__control sk-hidden--visually\" id=\"sk-estimator-id-8\" type=\"checkbox\" ><label for=\"sk-estimator-id-8\" class=\"sk-toggleable__label sk-toggleable__label-arrow\">AdaBoostClassifier</label><div class=\"sk-toggleable__content\"><pre>AdaBoostClassifier(base_estimator=DecisionTreeClassifier(max_depth=8),\n",
              "                   random_state=42)</pre></div></div></div><div class=\"sk-parallel\"><div class=\"sk-parallel-item\"><div class=\"sk-item\"><div class=\"sk-label-container\"><div class=\"sk-label sk-toggleable\"><input class=\"sk-toggleable__control sk-hidden--visually\" id=\"sk-estimator-id-9\" type=\"checkbox\" ><label for=\"sk-estimator-id-9\" class=\"sk-toggleable__label sk-toggleable__label-arrow\">base_estimator: DecisionTreeClassifier</label><div class=\"sk-toggleable__content\"><pre>DecisionTreeClassifier(max_depth=8)</pre></div></div></div><div class=\"sk-serial\"><div class=\"sk-item\"><div class=\"sk-estimator sk-toggleable\"><input class=\"sk-toggleable__control sk-hidden--visually\" id=\"sk-estimator-id-10\" type=\"checkbox\" ><label for=\"sk-estimator-id-10\" class=\"sk-toggleable__label sk-toggleable__label-arrow\">DecisionTreeClassifier</label><div class=\"sk-toggleable__content\"><pre>DecisionTreeClassifier(max_depth=8)</pre></div></div></div></div></div></div></div></div></div></div>"
            ],
            "text/plain": [
              "AdaBoostClassifier(base_estimator=DecisionTreeClassifier(max_depth=8),\n",
              "                   random_state=42)"
            ]
          },
          "execution_count": 66,
          "metadata": {},
          "output_type": "execute_result"
        }
      ],
      "source": [
        "ada_model.fit(X_test, y_test)"
      ]
    },
    {
      "cell_type": "code",
      "execution_count": null,
      "id": "51c084a6",
      "metadata": {
        "id": "51c084a6",
        "outputId": "708bcb04-9903-4aa6-eaa0-fe9948e33ee1"
      },
      "outputs": [
        {
          "data": {
            "text/plain": [
              "1.0"
            ]
          },
          "execution_count": 67,
          "metadata": {},
          "output_type": "execute_result"
        }
      ],
      "source": [
        "ada_model.score(X_test, y_test)"
      ]
    },
    {
      "cell_type": "code",
      "execution_count": null,
      "id": "2ebd6837",
      "metadata": {
        "id": "2ebd6837"
      },
      "outputs": [],
      "source": [
        "prediction = model.predict(X_test)"
      ]
    },
    {
      "cell_type": "code",
      "execution_count": null,
      "id": "0fc463b8",
      "metadata": {
        "id": "0fc463b8",
        "outputId": "3f5d0047-c77f-4b6e-cc5f-7b9c739af3d5"
      },
      "outputs": [
        {
          "name": "stdout",
          "output_type": "stream",
          "text": [
            "*Confusion Matrix : \n",
            "[[42  0]\n",
            " [ 0 36]]\n",
            "*Classification Report: \n",
            "              precision    recall  f1-score   support\n",
            "\n",
            "           0       1.00      1.00      1.00        42\n",
            "           1       1.00      1.00      1.00        36\n",
            "\n",
            "    accuracy                           1.00        78\n",
            "   macro avg       1.00      1.00      1.00        78\n",
            "weighted avg       1.00      1.00      1.00        78\n",
            "\n"
          ]
        }
      ],
      "source": [
        "print(\"*Confusion Matrix : \")\n",
        "print(confusion_matrix(y_test, prediction))\n",
        "print(\"*Classification Report: \")\n",
        "print(classification_report(y_test, prediction))"
      ]
    },
    {
      "cell_type": "code",
      "execution_count": null,
      "id": "36e98003",
      "metadata": {
        "id": "36e98003"
      },
      "outputs": [],
      "source": []
    },
    {
      "cell_type": "code",
      "execution_count": null,
      "id": "da21037c",
      "metadata": {
        "id": "da21037c"
      },
      "outputs": [],
      "source": []
    },
    {
      "cell_type": "code",
      "execution_count": null,
      "id": "283174dc",
      "metadata": {
        "id": "283174dc"
      },
      "outputs": [],
      "source": []
    },
    {
      "cell_type": "code",
      "execution_count": null,
      "id": "99712450",
      "metadata": {
        "id": "99712450"
      },
      "outputs": [],
      "source": []
    }
  ],
  "metadata": {
    "kernelspec": {
      "display_name": "Python 3 (ipykernel)",
      "language": "python",
      "name": "python3"
    },
    "language_info": {
      "codemirror_mode": {
        "name": "ipython",
        "version": 3
      },
      "file_extension": ".py",
      "mimetype": "text/x-python",
      "name": "python",
      "nbconvert_exporter": "python",
      "pygments_lexer": "ipython3",
      "version": "3.8.10"
    },
    "colab": {
      "provenance": [],
      "include_colab_link": true
    }
  },
  "nbformat": 4,
  "nbformat_minor": 5
}